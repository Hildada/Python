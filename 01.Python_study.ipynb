{
 "cells": [
  {
   "cell_type": "code",
   "execution_count": 4,
   "metadata": {
    "scrolled": true
   },
   "outputs": [
    {
     "name": "stdout",
     "output_type": "stream",
     "text": [
      "Hello World\n"
     ]
    }
   ],
   "source": [
    "#代码的作用\n",
    "# 1 . 给人看\n",
    "# 2 . 给机器看\n",
    "# 3 . 注释是给人看的内容\n",
    "print(\"Hello World\")\n",
    "\"\"\"\n",
    "这里面任何内容都不管了\n",
    "blbala...\n",
    "blabla...\n",
    "\n",
    "\"\"\""
   ]
  },
  {
   "cell_type": "markdown",
   "metadata": {},
   "source": [
    "# 注释\n",
    "- 机器不去执行注释的内容\n",
    "- 注释一般使用自然语言书写\n",
    "- 注释的写法：\n",
    "    - 行注释：以#号开头，可以单独一行，可以在某行后边\n",
    "    - 块注释：好几行代码或者内容，以三个单引号(''')或双引号(\"\"\")开始和结束"
   ]
  },
  {
   "cell_type": "markdown",
   "metadata": {},
   "source": [
    "# 变量\n",
    "- 程序=数据结构+算法\n",
    "- 变量是一个可以重复使用的一个量，或者叫一个代号\n",
    "- 命名规则\n",
    "    - 变量名可以包含数字，字母，下划线或者更多（汉字，但是不推荐）\n",
    "    - 不可以以数字开头\n",
    "        - 4man 5for 是不可以的\n",
    "        - man4 for5 是可以的\n",
    "    - 一般在python中，可以以下划线的内容具有特殊意义，不建议使用\n",
    "         - age  _name  理论上可以但不推荐使用，包括但不限于一个或多个下划线开头的变量\n",
    "    - 大小写不一样\n",
    "        - Forman 跟 forman 不是一个变量名\n",
    "    - 推荐：\n",
    "        - 使用具有固定含义的英文单词或缩写， srv=server skt=sockt,一般以posix命名为主\n",
    "        - 驼峰命名法\n",
    "            - 名称以单词自动连接，且每个单词首字母大写\n",
    "                - 大驼峰，每个单词首字母大写\n",
    "                    - 在Python中给类名使用此方法， MyFirstLove,IntOne\n",
    "                - 小驼峰，类似大驼峰，但首字母小写\n",
    "                    - 在Python中一般给普通变量 或 函数名字\n",
    "                    - myFirstLove, intOne\n",
    "                - posix写法\n",
    "                    - 多个单词下划线连接\n",
    "                    - 单词全部小写\n",
    "                    - my_first_love int_one\n",
    "    - 保留关键字\n",
    "        - 变量命名必须避开，不能跟关键字和保留字重复\n",
    "        - class def break for"
   ]
  },
  {
   "cell_type": "code",
   "execution_count": 6,
   "metadata": {},
   "outputs": [
    {
     "name": "stdout",
     "output_type": "stream",
     "text": [
      "['False', 'None', 'True', 'and', 'as', 'assert', 'break', 'class', 'continue', 'def', 'del', 'elif', 'else', 'except', 'finally', 'for', 'from', 'global', 'if', 'import', 'in', 'is', 'lambda', 'nonlocal', 'not', 'or', 'pass', 'raise', 'return', 'try', 'while', 'with', 'yield']\n"
     ]
    }
   ],
   "source": [
    "#查看关键字的方法\n",
    "import keyword #引入关键字模块\n",
    "#打印出系统全部关键字\n",
    "print(keyword.kwlist)"
   ]
  },
  {
   "cell_type": "markdown",
   "metadata": {},
   "source": [
    "## 变量声明\n",
    "- var_name = var_value\n",
    "- var1 = var2 = var3 = var_value\n",
    "- var1,var2,var3 = v1, v2,v3"
   ]
  },
  {
   "cell_type": "code",
   "execution_count": 10,
   "metadata": {},
   "outputs": [
    {
     "name": "stdout",
     "output_type": "stream",
     "text": [
      "18\n",
      "18\n",
      "16\n",
      "16\n",
      "16\n",
      "12\n",
      "21\n",
      "45\n"
     ]
    }
   ],
   "source": [
    "#定义变量age，把18放入变量age中\n",
    "age = 18\n",
    "print(age)\n",
    "print(18)\n",
    "\n",
    "#给age1,age2,age3放入同样一个内容或值\n",
    "age1 = age2 = age3 = 16\n",
    "print(age1)\n",
    "print(age2)\n",
    "print(age3)\n",
    "\n",
    "age4 , age5, age6 = 12, 21, 45\n",
    "print(age4)\n",
    "print(age5)\n",
    "print(age6)"
   ]
  },
  {
   "cell_type": "markdown",
   "metadata": {},
   "source": [
    "## 变量类型\n",
    "- 严格意义上讲， python只有一个类型\n",
    "- 标准数据一共六种\n",
    "    - 数字类型 Number\n",
    "    - 字符串类型 String\n",
    "    - 列表 List\n",
    "    - 元组 Tuple\n",
    "    - 字典 Dictionary\n",
    "    - 集合 Set"
   ]
  },
  {
   "cell_type": "markdown",
   "metadata": {},
   "source": [
    "## Number数字类型\n",
    "- 数字类型没有大小限制\n",
    "### 整数\n",
    "- 没有小数部分，表示个数的数字\n",
    "- 自然数，0，负自然数\n",
    "- 整数分进制\n",
    "    - 二进制\n",
    "        - 计算机常用\n",
    "        - 是计算机唯一直接理解的数字\n",
    "        - 表示为0b开头的0，1代码\n",
    "        - 0b00110 0b10001\n",
    "    - 八进制\n",
    "        - 不常用\n",
    "        - 以0o开头的包含0-7的数字\n",
    "        -\n",
    "    - 十六进制\n",
    "        - 逢16进1\n",
    "        - 其实是没四位二进制表示一位十六进制\n",
    "        - 包含0-9,a-f\n",
    "        - 数字上以0x开头表示"
   ]
  },
  {
   "cell_type": "code",
   "execution_count": 14,
   "metadata": {},
   "outputs": [
    {
     "name": "stdout",
     "output_type": "stream",
     "text": [
      "10\n",
      "18\n",
      "66\n",
      "31\n"
     ]
    }
   ],
   "source": [
    "age = 10\n",
    "print(age)\n",
    "\n",
    "age = 0b10010\n",
    "print(age)\n",
    "\n",
    "age = 0o102\n",
    "print(age)\n",
    "\n",
    "age = 0x1f\n",
    "print(age)"
   ]
  },
  {
   "cell_type": "markdown",
   "metadata": {},
   "source": [
    "### 浮点数\n",
    "- 小数\n",
    "- 计算里面表示浮点数可以有条件省略\n",
    "- 3.1415\n",
    "- 3.\n",
    "- 0.5\n",
    "- .5\n",
    "- 科学计数法\n",
    "    - 定义跟数学定义一样\n",
    "    - 写法用e/E后面跟数表示10的指数\n",
    "    - 175.43 == 1.7643e2\n",
    "    - 0.876 == 8.76e-1"
   ]
  },
  {
   "cell_type": "code",
   "execution_count": 17,
   "metadata": {},
   "outputs": [
    {
     "name": "stdout",
     "output_type": "stream",
     "text": [
      "178.56\n",
      "0.9\n"
     ]
    }
   ],
   "source": [
    "height = 178.56\n",
    "print(height)\n",
    "\n",
    "weight = .9\n",
    "print(weight)"
   ]
  },
  {
   "cell_type": "markdown",
   "metadata": {},
   "source": [
    "### 复数Complex\n",
    "- 定义同数学一致\n",
    "- 一个由实部和虚部的数字\n",
    "- 虚部用 j/J 表示\n",
    "- 5 + 3j\n",
    "- 3j\n",
    "-  (3J)"
   ]
  },
  {
   "cell_type": "markdown",
   "metadata": {},
   "source": [
    "### 布尔值\n",
    "- 表示真假的值\n",
    "- 只有两个值\n",
    "- 布尔值可以与数字直接操作"
   ]
  },
  {
   "cell_type": "code",
   "execution_count": 19,
   "metadata": {},
   "outputs": [
    {
     "name": "stdout",
     "output_type": "stream",
     "text": [
      "19\n"
     ]
    }
   ],
   "source": [
    "# 布尔值操作 \n",
    "age = 18 + True\n",
    "print(age)"
   ]
  },
  {
   "cell_type": "markdown",
   "metadata": {},
   "source": [
    "## 字符串\n",
    "- 用来表示一串文字信息\n",
    "- 如何表示\n",
    "    - 单引号\n",
    "    - 双引号\n",
    "    - 三引号（三个单引号或者三个双引号）\n",
    "        - 能够扩起多行信息\n",
    "- 单双引号交错使用\n"
   ]
  },
  {
   "cell_type": "code",
   "execution_count": 30,
   "metadata": {},
   "outputs": [
    {
     "name": "stdout",
     "output_type": "stream",
     "text": [
      "i love KQ\n",
      "我爱KQ\n",
      "\n",
      "i love KQ \n",
      "哈哈哈\n",
      "\n"
     ]
    }
   ],
   "source": [
    "love = \"i love KQ\"\n",
    "print(love)\n",
    "\n",
    "love = '我爱KQ'\n",
    "print(love)\n",
    "\n",
    "#单双引号交错使用的例子\n",
    "# <a styal = \"color:red\"> 哈哈哈</a>\n",
    "# 用引号表示上面的字符串\n",
    "html = 'a styal = color:red\">哈哈哈</a>'\n",
    "htmls = '''\n",
    "i love KQ \n",
    "哈哈哈\n",
    "'''\n",
    "print(htmls)"
   ]
  },
  {
   "cell_type": "markdown",
   "metadata": {},
   "source": [
    "# 字符串\n",
    "- 转义字符\n",
    "- 格式\n",
    "- 内建函数\n",
    "## 转义字符\n",
    "- 用一个特殊的方法表示出一系列不方便或者写不出来的内容，比如回车键，换行键，退格键\n",
    "- 借助反斜杠字符，一旦字符串出现反斜杠，则反斜杠后面一个和几个字符表示已经不是原来的意思了，进行了转义\n",
    "- 在字符串中，一旦出现反斜杠就要加倍小心，可能出现转义字符出现\n",
    "- 不同系统对换行操作有不同表示\n",
    "    - windows \\n\n",
    "    - linux \\r\\n"
   ]
  },
  {
   "cell_type": "code",
   "execution_count": 31,
   "metadata": {},
   "outputs": [
    {
     "name": "stdout",
     "output_type": "stream",
     "text": [
      "i love KQ \n"
     ]
    }
   ],
   "source": [
    "s = \"i love KQ \"\n",
    "print(s)"
   ]
  },
  {
   "cell_type": "code",
   "execution_count": 36,
   "metadata": {},
   "outputs": [
    {
     "name": "stdout",
     "output_type": "stream",
     "text": [
      "Let's go\n",
      "Let's go\n",
      "c:\\user\n",
      "i love \r\n",
      " KQ\n"
     ]
    }
   ],
   "source": [
    "# 如果想表示出Let's go来\n",
    "# 1.可以使用嵌套引号，即外层使用双引号\n",
    "# 2. 转义字符\n",
    "s = \"Let's go\"\n",
    "print(s)\n",
    "\n",
    "# \\' == '\n",
    "ss = 'Let\\'s go'\n",
    "print(ss)\n",
    "\n",
    "# \\\\ == \\\n",
    "sss = \"c:\\\\user\"\n",
    "print(sss)\n",
    "\n",
    "#回车换行符\n",
    "s1 = \"i love \\r\\n KQ\"\n",
    "print(s1)"
   ]
  },
  {
   "cell_type": "markdown",
   "metadata": {},
   "source": [
    "## 字符串的格式化\n",
    "- 把字符串按照一定的格式打印或者填充\n",
    "- 格式化有两种方法\n",
    "    - 利用百分号（%）\n",
    "    - 利用format函数"
   ]
  },
  {
   "cell_type": "code",
   "execution_count": 37,
   "metadata": {
    "collapsed": true
   },
   "outputs": [],
   "source": [
    "s = \"xxx 你好， 我们的学习开始啦\""
   ]
  },
  {
   "cell_type": "markdown",
   "metadata": {},
   "source": [
    "### 利用百分号（%）格式化\n",
    "- 在字符串中，利用%表示一个特殊的含义，表示对字符进行格式\n",
    "- %d:此处应该放入一个整数\n",
    "- %s:表示此处应该放入一个字符"
   ]
  },
  {
   "cell_type": "code",
   "execution_count": 40,
   "metadata": {},
   "outputs": [
    {
     "name": "stdout",
     "output_type": "stream",
     "text": [
      " I love %s\n"
     ]
    }
   ],
   "source": [
    "s = \" I love %s\"\n",
    "# 下面直接把%s打印出来\n",
    "print(s)"
   ]
  },
  {
   "cell_type": "code",
   "execution_count": 42,
   "metadata": {},
   "outputs": [
    {
     "name": "stdout",
     "output_type": "stream",
     "text": [
      "I love KQ\n"
     ]
    }
   ],
   "source": [
    "print(\"I love %s\"%\"KQ\")"
   ]
  },
  {
   "cell_type": "code",
   "execution_count": 44,
   "metadata": {},
   "outputs": [
    {
     "name": "stdout",
     "output_type": "stream",
     "text": [
      " I love KQ\n"
     ]
    }
   ],
   "source": [
    "print(s%\"KQ\")"
   ]
  },
  {
   "cell_type": "code",
   "execution_count": 47,
   "metadata": {},
   "outputs": [
    {
     "name": "stdout",
     "output_type": "stream",
     "text": [
      "I am %d yeras old\n",
      "I am 18 yeras old\n"
     ]
    }
   ],
   "source": [
    "s = \"I am %d yeras old\"\n",
    "# 区别和留意一下结果\n",
    "print(s)\n",
    "print(s%18)"
   ]
  },
  {
   "cell_type": "code",
   "execution_count": 51,
   "metadata": {},
   "outputs": [
    {
     "name": "stdout",
     "output_type": "stream",
     "text": [
      "I am %s, i am %d years old\n",
      "I am LJ, i am 18 years old\n"
     ]
    }
   ],
   "source": [
    "s = \"I am %s, i am %d years old\"\n",
    "print(s)\n",
    "# 注意一下出错的原因\n",
    "# 如果字符串中有占位符，则由几个占位符必须用几个实际内容代替，或者一个也不要\n",
    "# print(s%\"LJ\")\n",
    "#如果出现多个占位符，则相应内容用括号括起来\n",
    "print(s%(\"LJ\",18))"
   ]
  },
  {
   "cell_type": "markdown",
   "metadata": {},
   "source": [
    "### format 函数格式化字符串\n",
    "- 直接用format函数进格式化\n",
    "- 推荐使用这种方法\n",
    "- 在使用上，以{}和：代替%号，后面用format带参数完成"
   ]
  },
  {
   "cell_type": "code",
   "execution_count": 54,
   "metadata": {},
   "outputs": [
    {
     "name": "stdout",
     "output_type": "stream",
     "text": [
      "i love KQ\n",
      "Yes , i am 18 years old, I love KQ and i am 18 years old\n"
     ]
    }
   ],
   "source": [
    "s = \"i love {}\".format(\"KQ\")\n",
    "print(s)\n",
    "\n",
    "s = \"Yes , i am {1} years old, I love {0} and i am {1} years old\".format(\"KQ\",18)\n",
    "print(s)"
   ]
  },
  {
   "cell_type": "markdown",
   "metadata": {},
   "source": [
    "## None\n",
    "- 表示什么都没有\n",
    "- 如果函数没有返回值，可以返回 None\n",
    "- 用来占位\n",
    "- 用来解除变量绑定"
   ]
  },
  {
   "cell_type": "markdown",
   "metadata": {},
   "source": [
    "# 表达式\n",
    "- 由一个或者几个数字或者变量和运算符组合成的一行代码\n",
    "- 通常都会返回一个结果\n",
    "\n",
    "# 运算符\n",
    "- 由一个以上的值经过变化得到新值的过程叫运算\n",
    "- 用于运算的符号叫运算符\n",
    "- 运算符分类：\n",
    "    - 算数运算符\n",
    "    - 比较或关系运算符\n",
    "    - 赋值运算符\n",
    "    - 位运算符\n",
    "    - 逻辑运算符\n",
    "    - 成员运算符\n",
    "    - 身份运算符"
   ]
  },
  {
   "cell_type": "markdown",
   "metadata": {},
   "source": [
    "## 算数运算符\n",
    "- 进行算术运算符一摸一样\n",
    "- python没有自增或者自减运算符"
   ]
  },
  {
   "cell_type": "code",
   "execution_count": 59,
   "metadata": {},
   "outputs": [
    {
     "name": "stdout",
     "output_type": "stream",
     "text": [
      "8\n",
      "30\n",
      "2.25\n",
      "1\n",
      "2\n",
      "16\n"
     ]
    }
   ],
   "source": [
    "# + ，- ，* ,/\n",
    "a = 9 + 3 - 4\n",
    "print(a)\n",
    "\n",
    "a = 5 * 6\n",
    "print(a)\n",
    "# 在python2.x 和python3.x 中，除号（/）结果可能不一致，此处以3系列为准\n",
    "a = 9 / 4\n",
    "print(a)\n",
    "\n",
    "# % 取余运算\n",
    "a = 9 % 4\n",
    "print(a)\n",
    "\n",
    "# // 表示取商运算， 也叫地板除\n",
    "a = 9 // 4\n",
    "print(a)\n",
    "\n",
    "# ** 表示幂运算\n",
    "a = 2 ** 4\n",
    "print(a)"
   ]
  },
  {
   "cell_type": "markdown",
   "metadata": {},
   "source": [
    "## 比较运算符\n",
    "- 对比两个变量或者值进行比较的运算符\n",
    "- 比较的结果是布尔值，即True / False"
   ]
  },
  {
   "cell_type": "code",
   "execution_count": 62,
   "metadata": {
    "scrolled": true
   },
   "outputs": [
    {
     "name": "stdout",
     "output_type": "stream",
     "text": [
      "False\n",
      "True\n"
     ]
    }
   ],
   "source": [
    "# == ,等于号\n",
    "a = 3 ** 4\n",
    "# 执行顺序\n",
    "# 1. 计算 a == 80\n",
    "# 2. 把结果放入b中\n",
    "b = a == 80\n",
    "print(b)\n",
    "\n",
    "# ！= ，不等于\n",
    "print(9 != 8)\n",
    "\n",
    "# > , <  ,大于，小于\n",
    "# >=, <=  ,大于等于，小于等于，注意等号在右边"
   ]
  },
  {
   "cell_type": "markdown",
   "metadata": {},
   "source": [
    "## 赋值运算符\n"
   ]
  },
  {
   "cell_type": "code",
   "execution_count": 64,
   "metadata": {},
   "outputs": [
    {
     "name": "stdout",
     "output_type": "stream",
     "text": [
      "7\n"
     ]
    }
   ],
   "source": [
    "# = ，赋值\n",
    "a = 0\n",
    "c = a = 4\n",
    "\n",
    "# +=, 是缩写\n",
    "a = 0\n",
    "a += 7 # a = a + 7\n",
    "print(a)\n",
    "\n",
    "# 所有运算符都有这种缩写\n",
    "# -=， *=， /=， %=，都是缩写形式"
   ]
  },
  {
   "cell_type": "markdown",
   "metadata": {},
   "source": [
    "## 逻辑运算符\n",
    "- 对布尔值进行计算的符号\n",
    "- and 逻辑与\n",
    "- or 逻辑或\n",
    "- not 逻辑非\n",
    "- python中逻辑运算没有异或运算\n",
    "- 运算规则：\n",
    "    - and 看做乘法， or看做加法\n",
    "    - True 看做1， False 看做0\n",
    "    - 逻辑运算就能转换成数学运算\n",
    "    - 最后结果是0则是False,否则为True\n",
    "- 逻辑运算的短路问题\n",
    "    - 逻辑运算式，按照运算顺序计算，一旦能够确定整个式子的值，则不再进行计算，直接返回"
   ]
  },
  {
   "cell_type": "code",
   "execution_count": 69,
   "metadata": {},
   "outputs": [
    {
     "name": "stdout",
     "output_type": "stream",
     "text": [
      "True\n",
      "True\n"
     ]
    }
   ],
   "source": [
    "#逻辑运算符\n",
    "a = True\n",
    "b = False\n",
    "c = True\n",
    "#以下式子等于 d = 1 * 0 + 1\n",
    "d = a and b or c\n",
    "print(d)\n",
    "\n",
    "d = a or b and c\n",
    "print(d)\n",
    "\n",
    "#短路计算\n",
    "# 下面逻辑表达式，a的值一定是True的时候，整个表达式不在向下计算\n",
    "a = True or xxxxxxx\n",
    "\n"
   ]
  },
  {
   "cell_type": "markdown",
   "metadata": {},
   "source": [
    "## 成员运算符号\n",
    "- 用来检测某一个变量是否是另一个变量的成员\n",
    "- in\n",
    "- not in"
   ]
  },
  {
   "cell_type": "code",
   "execution_count": 71,
   "metadata": {},
   "outputs": [
    {
     "name": "stdout",
     "output_type": "stream",
     "text": [
      "False\n",
      "True\n"
     ]
    }
   ],
   "source": [
    "# 案例\n",
    "l = [1,2,4,5,7]\n",
    "a = 6\n",
    "\n",
    "b = a in l\n",
    "print(b)\n",
    "\n",
    "b = a not in l\n",
    "print(b)"
   ]
  },
  {
   "cell_type": "markdown",
   "metadata": {},
   "source": [
    "## 身份运算符\n",
    "- is： 用来检测两个变量是否是同一个变量\n",
    "    - 语法是 var1 is var2\n",
    "- is not: 两个变量不是同一个变量"
   ]
  },
  {
   "cell_type": "code",
   "execution_count": 73,
   "metadata": {},
   "outputs": [
    {
     "name": "stdout",
     "output_type": "stream",
     "text": [
      "True\n",
      "False\n"
     ]
    }
   ],
   "source": [
    "a = 9\n",
    "b = 9\n",
    "print(a is b)\n",
    "\n",
    "a = \"i love KQ\"\n",
    "b = \"i love KQ\"\n",
    "print(a is b)"
   ]
  },
  {
   "cell_type": "markdown",
   "metadata": {},
   "source": [
    "## 运算符分优先级\n",
    "- 永远记住，括号具有最高优先级\n",
    "\n",
    "        ** 指数（最高优先级）\n",
    "        ~ + - 按位翻转，一元加号和减号\n",
    "        * / % // 乘，除，取模和取除\n",
    "        + - 加，减\n",
    "        >> << 右移，左移运算符\n",
    "        & 位 'AND'\n",
    "        ^ | 位运算符\n",
    "        <= < > >= 比较运算符\n",
    "        <> == != 等于运算符\n",
    "        = %= += -= /= *= 赋值运算符\n",
    "        is is not 身份运算符\n",
    "        in not in 成员运算符\n",
    "        not or and  逻辑运算符"
   ]
  },
  {
   "cell_type": "markdown",
   "metadata": {},
   "source": [
    "# 程序结构\n",
    "- 顺序\n",
    "- 分支\n",
    "- 循环 "
   ]
  },
  {
   "cell_type": "markdown",
   "metadata": {},
   "source": [
    "# 分支\n",
    "- 分支的基本语法\n",
    "\n",
    "            if 条件表达式：\n",
    "                语句1\n",
    "                语句2\n",
    "                语句3\n",
    "                ......\n",
    "- 条件表达式就是计算结果必须为布尔值\n",
    "- 表达式后面的冒号不能少\n",
    "- 注意if后面的出现语句，如果属于if语句块，则必须同一个缩进等级\n",
    "- 条件表达式结果为True执行if后面的缩进语句块\n"
   ]
  },
  {
   "cell_type": "code",
   "execution_count": 5,
   "metadata": {},
   "outputs": [
    {
     "name": "stdout",
     "output_type": "stream",
     "text": [
      "开始学习啦\n"
     ]
    }
   ],
   "source": [
    "# if 语句练习\n",
    "# 如果age小于18岁，则打印信息“叫家长”\n",
    "age = 19\n",
    "if age < 18:\n",
    "    print(\"去叫家长\")\n",
    "    print(\"我们不带你去玩\")\n",
    "    print(\"去你的\")\n",
    "print(\"开始学习啦\")"
   ]
  },
  {
   "cell_type": "code",
   "execution_count": 6,
   "metadata": {},
   "outputs": [
    {
     "name": "stdout",
     "output_type": "stream",
     "text": [
      "今天学习for循环\n",
      "for循环开始\n"
     ]
    }
   ],
   "source": [
    "print(\"今天学习for循环\")\n",
    "gender = \"男\"\n",
    "if gender == \"女\":\n",
    "    print(\"来，菽粟抱抱你\")\n",
    "print(\"for循环开始\")"
   ]
  },
  {
   "cell_type": "markdown",
   "metadata": {},
   "source": [
    "## 双向分支\n",
    "- if ... else ... 语句\n",
    "        \n",
    "        if 条件表达式：\n",
    "            语句1\n",
    "            语句2\n",
    "            ...\n",
    "         else 条件表达式：\n",
    "             语句1\n",
    "             语句2\n",
    "             ...\n",
    "- 双向分支有两个分支，当程序执行到if ... else.... 语句时，一定会执行if或else中的一个\n",
    "- 缩进问题，if和else同属一个层级，其余语句一个层级"
   ]
  },
  {
   "cell_type": "code",
   "execution_count": 10,
   "metadata": {},
   "outputs": [
    {
     "name": "stdout",
     "output_type": "stream",
     "text": [
      "请输入性别：nv\n",
      "你的性别是：nv\n",
      "嘻嘻嘻，发糖糖了\n",
      "你是女生，特殊照顾\n"
     ]
    }
   ],
   "source": [
    "# input的作用是\n",
    "# 1. 在屏幕上输出括号内的字符串\n",
    "# 2. 接受用户输入分内容并返回到程序\n",
    "# 3. input返回的内容一定是字符串类型\n",
    "gender = input(\"请输入性别：\")\n",
    "print(\"你的性别是：{0}\".format(gender))\n",
    "\n",
    "if gender == \"nan\":\n",
    "    print(\"我们来纪念一下今天的十行代码\")\n",
    "else:\n",
    "    print(\"嘻嘻嘻，发糖糖了\")\n",
    "    print(\"你是女生，特殊照顾\")"
   ]
  },
  {
   "cell_type": "code",
   "execution_count": 17,
   "metadata": {},
   "outputs": [
    {
     "name": "stdout",
     "output_type": "stream",
     "text": [
      "输入你的成绩：97\n",
      "优\n"
     ]
    }
   ],
   "source": [
    "# 考试成绩\n",
    "# 90以上 输出成绩 优\n",
    "# 80-90 良\n",
    "# 70-80 中\n",
    "# 60-70 平\n",
    "# 60以下 输出 没你这学生\n",
    "score = input(\"输入你的成绩：\") # 注意input的返回值类型\n",
    "# 需要把str转换成int\n",
    "score = int(score)\n",
    "if score >=90:\n",
    "    print(\"优\")\n",
    "if score >=80 and score < 90:\n",
    "    print(\"良\")\n",
    "if score >=70 and score < 80:\n",
    "    print(\"中\")\n",
    "if score >=60 and score < 70:\n",
    "    print(\"平\")\n",
    "if score < 60:\n",
    "    print(\"爬远点，没有你这学生\")"
   ]
  },
  {
   "cell_type": "markdown",
   "metadata": {},
   "source": [
    "## 多路分支\n",
    "- 很多分支情况，简称多路分支\n",
    "\n",
    "            if 条件表达式：\n",
    "                语句1\n",
    "                语句2\n",
    "            elif 条件表达式：\n",
    "                语句1\n",
    "                语句2\n",
    "                ...\n",
    "            elif 条件表达式：\n",
    "                语句1\n",
    "                ....\n",
    "            ....\n",
    "            \n",
    "            else:\n",
    "                语句1\n",
    "                ...\n",
    "- elif 可以有很多个\n",
    "- else 可选\n",
    "- 多路分支只选择一个执行"
   ]
  },
  {
   "cell_type": "code",
   "execution_count": 23,
   "metadata": {},
   "outputs": [
    {
     "name": "stdout",
     "output_type": "stream",
     "text": [
      "输入你的成绩：87\n",
      "良\n"
     ]
    }
   ],
   "source": [
    "score = input(\"输入你的成绩：\")\n",
    "score = int(score)\n",
    "if score >=90:\n",
    "    print(\"优\")\n",
    "elif score >=80:\n",
    "    print(\"良\")\n",
    "elif score >=70:\n",
    "    print(\"中\")\n",
    "elif score >=60:\n",
    "    print(\"平\")\n",
    "else:\n",
    "    print(\"爬远点，没有你这学生\")"
   ]
  },
  {
   "cell_type": "markdown",
   "metadata": {},
   "source": [
    "## if语句其它\n",
    "- if语句可以嵌套使用，但不推荐\n",
    "- python没有switch-case语句"
   ]
  },
  {
   "cell_type": "markdown",
   "metadata": {},
   "source": [
    "# 循环\n",
    "- 重复处理某些固定动作或者处理固定事物\n",
    "- 分类\n",
    "    - for循环\n",
    "    - while 循环\n",
    "## for 循环\n",
    "- for循环\n",
    "\n",
    "            for 变量 in 序列：\n",
    "                语句1\n",
    "                语句2\n",
    "                ..."
   ]
  },
  {
   "cell_type": "code",
   "execution_count": 25,
   "metadata": {
    "scrolled": true
   },
   "outputs": [
    {
     "name": "stdout",
     "output_type": "stream",
     "text": [
      "zhangsan\n",
      "lisi\n",
      "wangwu\n",
      "zhaoliu\n"
     ]
    }
   ],
   "source": [
    "# 列表就是一列数字或者其他值，一般用括号表示\n",
    "# 列如 ['zhangsan','lisi','wangwu','zhaoliu']\n",
    "\n",
    "# 打印学生列表姓名\n",
    "for name in ['zhangsan','lisi','wangwu','zhaoliu']:\n",
    "    print(name)"
   ]
  },
  {
   "cell_type": "code",
   "execution_count": 27,
   "metadata": {},
   "outputs": [
    {
     "name": "stdout",
     "output_type": "stream",
     "text": [
      "zhangsan\n",
      "小伙子我们不约，请自重\n",
      "lisi\n",
      "小伙子我们不约，请自重\n",
      "wangwu\n",
      "小伙子我们不约，请自重\n",
      "zhaoliu\n",
      "我的最爱zhaoliu出现了\n"
     ]
    }
   ],
   "source": [
    "# 打印学生列表姓名\n",
    "# 如果zhaoliu,那肯定是我的最爱啊\n",
    "# 如果是别的学生，那肯定要拒绝啊\n",
    "for name in ['zhangsan','lisi','wangwu','zhaoliu']:\n",
    "    print(name)\n",
    "    if name == \"zhaoliu\":\n",
    "        print(\"我的最爱{0}出现了\".format(name))\n",
    "    else:\n",
    "        print(\"小伙子我们不约，请自重\")"
   ]
  },
  {
   "cell_type": "markdown",
   "metadata": {},
   "source": [
    "## range介绍\n",
    "- 生成一个数字序列\n",
    "- 具体范围可以设定"
   ]
  },
  {
   "cell_type": "code",
   "execution_count": 29,
   "metadata": {},
   "outputs": [
    {
     "name": "stdout",
     "output_type": "stream",
     "text": [
      "1\n",
      "2\n",
      "3\n",
      "4\n",
      "5\n",
      "6\n",
      "7\n",
      "8\n",
      "9\n"
     ]
    }
   ],
   "source": [
    "# range 练习\n",
    "# 打印1-10的数字\n",
    "# 注意，一般在python中，如果由表示数字范围的两个数，一般包含左边的数字不包含右边的数字（即从右边开始到左边数字但不包含左边数字）\n",
    "# randint是特列，它左右包含\n",
    "# range函数在python2 和 python 3 中有严重的区别\n",
    "for i in range(1,10):\n",
    "    print(i)\n"
   ]
  },
  {
   "cell_type": "markdown",
   "metadata": {},
   "source": [
    "## for-else语句\n",
    "- 当for循环结束后会执行else语句\n",
    "- else语句是可选的"
   ]
  },
  {
   "cell_type": "code",
   "execution_count": 32,
   "metadata": {},
   "outputs": [
    {
     "name": "stdout",
     "output_type": "stream",
     "text": [
      "zhangsan\n",
      "小伙子我们不约，请自重\n",
      "lisi\n",
      "小伙子我们不约，请自重\n",
      "wangwu\n",
      "小伙子我们不约，请自重\n",
      "zhaoliu\n",
      "我的最爱zhaoliu出现了\n",
      "别约都是男的，不会在爱了\n"
     ]
    }
   ],
   "source": [
    "# for-else语句\n",
    "# 打印列表中的同学\n",
    "# 如果没有在列表中，或者列表结束了，打印，表示不在爱了\n",
    "for name in ['zhangsan','lisi','wangwu','zhaoliu']:\n",
    "    print(name)\n",
    "    if name == \"zhaoliu\":\n",
    "        print(\"我的最爱{0}出现了\".format(name))\n",
    "    else:\n",
    "        print(\"小伙子我们不约，请自重\")\n",
    "else:\n",
    "    print(\"别约都是男的，不会在爱了\")"
   ]
  },
  {
   "cell_type": "markdown",
   "metadata": {},
   "source": [
    "## 循环之break，continue,pass\n",
    "- break: 无条件结束整个循环，简称循猝死\n",
    "- continue: 无条件结束本次循环，从新进入下一次循环\n",
    "- pass： 表示路过,表示占位，佛系。。。"
   ]
  },
  {
   "cell_type": "code",
   "execution_count": 36,
   "metadata": {},
   "outputs": [
    {
     "name": "stdout",
     "output_type": "stream",
     "text": [
      "i\n",
      "i\n",
      "i\n",
      "i\n",
      "i\n",
      "i\n",
      "I find 7\n"
     ]
    }
   ],
   "source": [
    "# 在数字1-10中，寻找数字7，一旦找到，打印出来就，其余什么都不做\n",
    "# for循环中的变量表示：一般用i，k,m,n或者indx,idx,item之类\n",
    "# 在python中，如果循环变量名称不重要，可以用下划线（_）代替\n",
    "for i in range(1,11):\n",
    "    if i == 7:\n",
    "        print(\"I find {0}\".format(i))\n",
    "        break\n",
    "    else:\n",
    "        print(\"i\")"
   ]
  },
  {
   "cell_type": "code",
   "execution_count": 38,
   "metadata": {},
   "outputs": [
    {
     "name": "stdout",
     "output_type": "stream",
     "text": [
      "2是偶数\n",
      "4是偶数\n",
      "6是偶数\n",
      "8是偶数\n",
      "10是偶数\n"
     ]
    }
   ],
   "source": [
    "# continue语句循环\n",
    "# 在数字1-10中，寻找所有偶数，找到后打印出偶数\n",
    "for i in range(1,11):\n",
    "    if i % 2== 1:\n",
    "        continue\n",
    "    else:\n",
    "        print(\"{0}是偶数\".format(i))"
   ]
  },
  {
   "cell_type": "code",
   "execution_count": 1,
   "metadata": {},
   "outputs": [
    {
     "name": "stdout",
     "output_type": "stream",
     "text": [
      "wo zai zhanwei\n",
      "wo zai zhanwei\n",
      "wo zai zhanwei\n",
      "wo zai zhanwei\n",
      "wo zai zhanwei\n",
      "wo zai zhanwei\n",
      "wo zai zhanwei\n",
      "wo zai zhanwei\n",
      "wo zai zhanwei\n",
      "wo zai zhanwei\n"
     ]
    }
   ],
   "source": [
    "# pass 例子 ，一般用于占位\n",
    "# pass 没有功能\n",
    "for i in range(1,11):\n",
    "    pass\n",
    "    print(\"wo zai zhanwei\")"
   ]
  },
  {
   "cell_type": "markdown",
   "metadata": {},
   "source": [
    "## while循环\n",
    "- 一个循环语句\n",
    "- 表示当某条件成立的时候，就循环\n",
    "- 不知道具体循环次数，但能确定循环成立的条件式时使用while循环\n",
    "- while语法：\n",
    "        \n",
    "        while 条件表达式：\n",
    "            语句块\n",
    "        # 另外一中表达方法\n",
    "        while 条件表达式：\n",
    "            语句块1\n",
    "        else:\n",
    "            语句块2"
   ]
  },
  {
   "cell_type": "code",
   "execution_count": 38,
   "metadata": {},
   "outputs": [
    {
     "name": "stdout",
     "output_type": "stream",
     "text": [
      "第1年拿了106700.0块钱\n",
      "第2年拿了113848.9块钱\n",
      "第3年拿了121476.77629999998块钱\n",
      "第4年拿了129615.72031209998块钱\n",
      "第5年拿了138299.97357301068块钱\n",
      "第6年拿了147566.07180240238块钱\n",
      "第7年拿了157452.99861316333块钱\n",
      "第8年拿了168002.34952024528块钱\n",
      "第9年拿了179258.5069381017块钱\n",
      "第10年拿了191268.8269029545块钱\n",
      "第11年拿了204083.83830545243块钱\n",
      "TMD，终于翻倍了，房价已经涨了3倍了\n"
     ]
    }
   ],
   "source": [
    "# 如果说年利率是6.7%，本钱是每年翻滚， 问多少年后本钱翻倍\n",
    "# 如果拿到的钱翻倍，则用print庆祝以下\n",
    "benqian = 100000\n",
    "year = 0\n",
    "while benqian < 200000:\n",
    "    benqian = benqian * (1 + 0.067)\n",
    "    year += 1 # year = year + 1\n",
    "    print(\"第{0}年拿了{1}块钱\".format(year, benqian))\n",
    "else:\n",
    "    print(\"TMD，终于翻倍了，房价已经涨了3倍了\")"
   ]
  },
  {
   "cell_type": "markdown",
   "metadata": {},
   "source": [
    "# 函数\n",
    "- 代码的一种组织形式\n",
    "- 一个函数一般完成一项特定的功能\n",
    "- 函数的使用\n",
    "    - 函数需要先定义\n",
    "    - 使用函数，俗称调用"
   ]
  },
  {
   "cell_type": "code",
   "execution_count": 8,
   "metadata": {},
   "outputs": [
    {
     "name": "stdout",
     "output_type": "stream",
     "text": [
      "我结束了\n"
     ]
    }
   ],
   "source": [
    "# 定义一个函数\n",
    "# 只是定义的话不会执行\n",
    "# 1. def 关键字，后跟一个空格\n",
    "# 2. 函数名，自己定义，起名需要遵循命名规则，大驼峰命名只给类使用\n",
    "# 3. 后面括号和冒号不能省略，括号内可以由参数\n",
    "# 4. 函数所有代码缩进\n",
    "def func():\n",
    "    print(\"我是一个函数\")\n",
    "    print(\"我要完成一个功能\")\n",
    "print(\"我结束了\")"
   ]
  },
  {
   "cell_type": "code",
   "execution_count": 10,
   "metadata": {},
   "outputs": [
    {
     "name": "stdout",
     "output_type": "stream",
     "text": [
      "我是一个函数\n",
      "我要完成一个功能\n"
     ]
    }
   ],
   "source": [
    "# 函数调用\n",
    "# 直接函数名后面跟括号\n",
    "func()"
   ]
  },
  {
   "cell_type": "markdown",
   "metadata": {},
   "source": [
    "### 函数的参数和返回值\n",
    "- 参数： 负责给函数传递一些必要的数据或者信息\n",
    "    - 形参（形式参数）：在函数定义的时候用到的参数是具体值，只是一个占位符号，称为形参\n",
    "    - 实参（实际参数）： 在函数调用的时候输入的值\n",
    "- 返回值： 函数的执行结果\n",
    "    - 使用return关键字\n",
    "    - 如果没有return，默认返回一个None\n",
    "    - 函数一旦执行return，则无条件返回"
   ]
  },
  {
   "cell_type": "code",
   "execution_count": 13,
   "metadata": {},
   "outputs": [
    {
     "name": "stdout",
     "output_type": "stream",
     "text": [
      "二狗，你怎么了\n",
      "Sir,你不理我我就走了\n"
     ]
    }
   ],
   "source": [
    "# 参数的定义和使用\n",
    "# 参数person只是一个符号，代表的是调用的时候的某一个数据\n",
    "# 调用的时候，会用p的值代替函数中所有的person\n",
    "def hello(person):\n",
    "    print(\"{0}，你怎么了\".format(person))\n",
    "    print(\"Sir,你不理我我就走了\")\n",
    "\n",
    "p = \"二狗\"\n",
    "hello(p)"
   ]
  },
  {
   "cell_type": "code",
   "execution_count": 16,
   "metadata": {
    "scrolled": true
   },
   "outputs": [
    {
     "name": "stdout",
     "output_type": "stream",
     "text": [
      "二狗，你怎么了\n",
      "Sir,你不理我我就走了\n",
      "我已经和二狗打招呼了，二狗不理我\n"
     ]
    }
   ],
   "source": [
    "# return语句的基本使用\n",
    "# 函数打完招呼后返回一句话\n",
    "def hello(person):\n",
    "    print(\"{0}，你怎么了\".format(person))\n",
    "    print(\"Sir,你不理我我就走了\")\n",
    "    return \"我已经和{0}打招呼了，{1}不理我\".format(person,person)\n",
    "p = \"二狗\"\n",
    "rst = hello(p)\n",
    "\n",
    "print(rst)"
   ]
  },
  {
   "cell_type": "code",
   "execution_count": 20,
   "metadata": {},
   "outputs": [
    {
     "name": "stdout",
     "output_type": "stream",
     "text": [
      "二狗，你怎么了\n",
      "哈哈哈，我提前结束了\n"
     ]
    }
   ],
   "source": [
    "# return案例2\n",
    "\n",
    "def hello(person):\n",
    "    print(\"{0}，你怎么了\".format(person))\n",
    "    return \"哈哈哈，我提前结束了\"\n",
    "    print(\"Sir,你不理我我就走了\")\n",
    "    return \"我已经和{0}打招呼了，{1}不理我\".format(person,person)\n",
    "p = \"二狗\"\n",
    "rst = hello(p)\n",
    "\n",
    "print(rst)"
   ]
  },
  {
   "cell_type": "code",
   "execution_count": 21,
   "metadata": {},
   "outputs": [
    {
     "name": "stdout",
     "output_type": "stream",
     "text": [
      "Help on built-in function print in module builtins:\n",
      "\n",
      "print(...)\n",
      "    print(value, ..., sep=' ', end='\\n', file=sys.stdout, flush=False)\n",
      "    \n",
      "    Prints the values to a stream, or to sys.stdout by default.\n",
      "    Optional keyword arguments:\n",
      "    file:  a file-like object (stream); defaults to the current sys.stdout.\n",
      "    sep:   string inserted between values, default a space.\n",
      "    end:   string appended after the last value, default a newline.\n",
      "    flush: whether to forcibly flush the stream.\n",
      "\n"
     ]
    }
   ],
   "source": [
    "# 查找函数的帮助文档\n",
    "# 1. 用help函数\n",
    "help(print)"
   ]
  },
  {
   "cell_type": "code",
   "execution_count": 26,
   "metadata": {},
   "outputs": [
    {
     "name": "stdout",
     "output_type": "stream",
     "text": [
      "1 \n",
      "2 4 \n",
      "3 6 9 \n",
      "4 8 12 16 \n",
      "5 10 15 20 25 \n",
      "6 12 18 24 30 36 \n",
      "7 14 21 28 35 42 49 \n",
      "8 16 24 32 40 48 56 64 \n",
      "9 18 27 36 45 54 63 72 81 \n"
     ]
    }
   ],
   "source": [
    "#  九九乘法表\n",
    "# version 1.0\n",
    "for row in range(1,10):\n",
    "    # 打印一行\n",
    "    for col in range(1,row+1):\n",
    "        # print 函数默认任务打印完毕后换行\n",
    "        print(row * col,end = \" \")\n",
    "    print()"
   ]
  },
  {
   "cell_type": "code",
   "execution_count": 29,
   "metadata": {},
   "outputs": [
    {
     "name": "stdout",
     "output_type": "stream",
     "text": [
      "1 \n",
      "2 4 \n",
      "3 6 9 \n",
      "4 8 12 16 \n",
      "5 10 15 20 25 \n",
      "6 12 18 24 30 36 \n",
      "7 14 21 28 35 42 49 \n",
      "8 16 24 32 40 48 56 64 \n",
      "9 18 27 36 45 54 63 72 81 \n"
     ]
    }
   ],
   "source": [
    "# 定义一个函数， 打印一行九九乘法表\n",
    "#version 2.0\n",
    "def printline(row):\n",
    "    for col in range(1,row+1):\n",
    "        print(row * col , end = \" \")\n",
    "    print()\n",
    "    \n",
    "for row in range(1,10):\n",
    "    printline(row)"
   ]
  },
  {
   "cell_type": "markdown",
   "metadata": {},
   "source": [
    "## 参数详解\n",
    "- [参考资料] https://www.cnblogs.com/bingabcd/p/6671368.html\n",
    "- 参数分类\n",
    "    - 普通参数\n",
    "    - 默认参数\n",
    "    - 关键字参数\n",
    "    - 收集参数\n",
    "- 普通参数\n",
    "    - 一直在用的参见上列\n",
    "    - 定义的时候直接定义变量名\n",
    "    - 调用的时候直接把变量或者值放入指定位置\n",
    "    \n",
    "            def 函数名（参数1，参数2，...):\n",
    "                函数体\n",
    "            # 调用\n",
    "            函数名(value1, value2,...)\n",
    "            # 调用的时候，具体值参考的是位置，按位置赋值\n",
    "- 默认参数\n",
    "    - 形参带有默认值\n",
    "    - 调用的时候，如果没有相对应的值，则使用默认值\n",
    "    \n",
    "            def func_name(p1=v1,p2=v2,...):\n",
    "                func_block\n",
    "            # 调用\n",
    "            func_name()\n",
    "            # 调用2\n",
    "            value1 = 1000\n",
    "            value2 = 2\n",
    "            func_name(value1,value2)"
   ]
  },
  {
   "cell_type": "code",
   "execution_count": 37,
   "metadata": {
    "scrolled": true
   },
   "outputs": [
    {
     "name": "stdout",
     "output_type": "stream",
     "text": [
      "二狗 is 21, and he is a good student\n",
      "大爷 is 18, and she is a beautiful girl\n"
     ]
    }
   ],
   "source": [
    "# 默认参数示例\n",
    "# 报名函数，需要学生性别\n",
    "#学习python的学生基本上都是男的，所以报名的时候默认性别是男生\n",
    "def reg(name, age, gender = \"male\"):\n",
    "    if gender == \"male\":\n",
    "        print(\"{0} is {1}, and he is a good student\".format(name, age))\n",
    "    else:\n",
    "        print(\"{0} is {1}, and she is a beautiful girl\".format(name,age))\n",
    "# 调用\n",
    "reg(\"二狗\",21)\n",
    "reg(\"大爷\",18,\"female\")"
   ]
  },
  {
   "cell_type": "markdown",
   "metadata": {},
   "source": [
    "## 关键字参数\n",
    "- 语法\n",
    "\n",
    "            def func(p1,p2,...):\n",
    "                func_body\n",
    "            # 调用\n",
    "            func(p1=value1,p2=value2,...)\n",
    "- 比较麻烦，但也有好处：\n",
    "    - 不容易混淆，一般实参和形参只是按位置一一对应即可，容易出错\n",
    "    - 使用关键字参数，可以不考虑参数位置\n",
    " "
   ]
  },
  {
   "cell_type": "code",
   "execution_count": 2,
   "metadata": {},
   "outputs": [
    {
     "name": "stdout",
     "output_type": "stream",
     "text": [
      "I am a student\n",
      "我叫LJ,我今年18岁，我住我家\n"
     ]
    }
   ],
   "source": [
    "# 关键字参数\n",
    "def stu(name,age,addr):\n",
    "    print(\"I am a student\")\n",
    "    print(\"我叫{0},我今年{1}岁，我住{2}\".format(name,age,addr))\n",
    "    \n",
    "n = \"LJ\"\n",
    "a = 18\n",
    "addr = \"我家\"\n",
    "# 普通参数，按照位置传递，容易出错\n",
    "#stu(a,n,addr)\n",
    "\n",
    "stu(name=n,addr=addr,age=a)"
   ]
  },
  {
   "cell_type": "markdown",
   "metadata": {},
   "source": [
    "## 收集参数\n",
    "- 把没有位置，不能和定义时的参数位置相对应的参数，放入一个特定的数据结构中\n",
    "- 语法\n",
    "\n",
    "            def func(*args):\n",
    "                func_body\n",
    "            # 调用\n",
    "            func(p1,p2,p3,...)\n",
    "- 参数名args不是必须这么写，但是我们推荐使用args,约定俗成\n",
    "- 参数名args前面需要有*\n",
    "- 收集参数可以和其它参数共存"
   ]
  },
  {
   "cell_type": "code",
   "execution_count": 3,
   "metadata": {},
   "outputs": [
    {
     "name": "stdout",
     "output_type": "stream",
     "text": [
      "Hello,大家好，自我介绍以下\n",
      "<class 'tuple'>\n",
      "LJ\n",
      "18\n",
      "喜欢玩王者农药\n",
      "Hello,大家好，自我介绍以下\n",
      "<class 'tuple'>\n",
      "KQ\n",
      "19\n",
      "小学生\n",
      "坑得一P\n"
     ]
    }
   ],
   "source": [
    "# 收集参数\n",
    "# 函数模拟自我介绍，但不清楚具体内容\n",
    "# args把它看作一个list\n",
    "def stu(*args):\n",
    "    print(\"Hello,大家好，自我介绍以下\")\n",
    "    # type函数作用是检测变量类型\n",
    "    print(type(args))\n",
    "    for item in args:\n",
    "        print(item)\n",
    "\n",
    "stu(\"LJ\",18,\"喜欢玩王者农药\")\n",
    "stu(\"KQ\",19,\"小学生\",\"坑得一P\")\n",
    "    "
   ]
  },
  {
   "cell_type": "code",
   "execution_count": 10,
   "metadata": {},
   "outputs": [
    {
     "name": "stdout",
     "output_type": "stream",
     "text": [
      "Hello,大家好，自我介绍以下\n",
      "<class 'tuple'>\n"
     ]
    }
   ],
   "source": [
    "# 收集参数案例\n",
    "# 说明收集参数可以不带任何实参调用，此时收集参数为空tuple\n",
    "stu()"
   ]
  },
  {
   "cell_type": "code",
   "execution_count": 11,
   "metadata": {},
   "outputs": [
    {
     "ename": "TypeError",
     "evalue": "stu() got an unexpected keyword argument 'name'",
     "traceback": [
      "\u001b[1;31m---------------------------------------------------------------------------\u001b[0m",
      "\u001b[1;31mTypeError\u001b[0m                                 Traceback (most recent call last)",
      "\u001b[1;32m<ipython-input-11-054583d5c77e>\u001b[0m in \u001b[0;36m<module>\u001b[1;34m()\u001b[0m\n\u001b[0;32m      1\u001b[0m \u001b[1;31m# 如果使用关键字参数格式调用，会出问题\u001b[0m\u001b[1;33m\u001b[0m\u001b[1;33m\u001b[0m\u001b[0m\n\u001b[1;32m----> 2\u001b[1;33m \u001b[0mstu\u001b[0m\u001b[1;33m(\u001b[0m\u001b[0mname\u001b[0m\u001b[1;33m=\u001b[0m\u001b[1;34m\"LJ\"\u001b[0m\u001b[1;33m)\u001b[0m\u001b[1;33m\u001b[0m\u001b[0m\n\u001b[0m",
      "\u001b[1;31mTypeError\u001b[0m: stu() got an unexpected keyword argument 'name'"
     ],
     "output_type": "error"
    }
   ],
   "source": [
    "# 如果使用关键字参数格式调用，会出问题\n",
    "stu(name=\"LJ\")"
   ]
  },
  {
   "cell_type": "markdown",
   "metadata": {},
   "source": [
    "### 收集参数之关键字参数\n",
    "- 把关键字参数按字典格式存入收集参数\n",
    "- 语法\n",
    "            \n",
    "            def func(**kwargs):\n",
    "                func_body\n",
    "            # 调用\n",
    "            func(p1=v1,p2=v2,...)\n",
    "- kwargs一般约定俗成\n",
    "- 调用的时候，把多余的关键字参数放入kwargs\n",
    "- 访问kwargs需要按字典格式访问"
   ]
  },
  {
   "cell_type": "code",
   "execution_count": 17,
   "metadata": {},
   "outputs": [
    {
     "name": "stdout",
     "output_type": "stream",
     "text": [
      "hello,大家好，自我介绍下：\n",
      "<class 'dict'>\n",
      "name --- LJ\n",
      "age --- 19\n",
      "addr --- chengdu\n",
      "work --- student\n",
      "******************************\n",
      "hello,大家好，自我介绍下：\n",
      "<class 'dict'>\n",
      "name --- kq\n"
     ]
    }
   ],
   "source": [
    "# 收集参数案例\n",
    "# 自我介绍\n",
    "# 调用的时候需要用关键字参数调用\n",
    "def stu( **kwargs):\n",
    "    print(\"hello,大家好，自我介绍下：\")\n",
    "    print(type(kwargs))\n",
    "    # 按照字典格式访问，注意python2 和python3有区别\n",
    "    for k,v in kwargs.items():\n",
    "        print(k,\"---\",v)\n",
    "stu(name=\"LJ\",age=19,addr=\"chengdu\",work=\"student\")\n",
    "print(\"*\"*30)\n",
    "stu(name=\"kq\")"
   ]
  },
  {
   "cell_type": "markdown",
   "metadata": {},
   "source": [
    "### 收集参数混合调用的顺序\n",
    "- 收集参数，关键字参数，普通参数可以混合使用\n",
    "- 使用规则是，普通参数和关键字参数优先\n",
    "- 定义的时候一般普通参数，关键字参数，收集参数tuple，收集参数dict"
   ]
  },
  {
   "cell_type": "code",
   "execution_count": 29,
   "metadata": {},
   "outputs": [
    {
     "name": "stdout",
     "output_type": "stream",
     "text": [
      "hello,给你们来个佛系自我介绍：\n",
      "我叫LJ,我今年22岁了\n",
      "我就是这么佛系\n",
      "******************************\n",
      "##############################\n",
      "hello,给你们来个佛系自我介绍：\n",
      "我叫LJ,我今年22岁了\n",
      "我的爱好是跑步\n",
      "******************************\n",
      "##############################\n",
      "hello,给你们来个佛系自我介绍：\n",
      "我叫LJ,我今年22岁了\n",
      "我的爱好是烹饪\n",
      "******************************\n",
      "KQ\n",
      "##############################\n",
      "hobby1 --- 打游戏\n"
     ]
    }
   ],
   "source": [
    "# 收集参数混合使用案例\n",
    "# stu模拟一个学生自我介绍\n",
    "def stu(name,age,*args,hobby=\"没有\",**kwargs):\n",
    "    print(\"hello,给你们来个佛系自我介绍：\")\n",
    "    print(\"我叫{0},我今年{1}岁了\".format(name,age))\n",
    "    if hobby == \"没有\":\n",
    "        print(\"我就是这么佛系\")\n",
    "    else:\n",
    "        print(\"我的爱好是{0}\".format(hobby))\n",
    "    print(\"*\"*30)\n",
    "    for i in args:\n",
    "        print(i)\n",
    "    print(\"#\"*30)\n",
    "    for k,v in kwargs.items():\n",
    "        print(k,\"---\",v)\n",
    "\n",
    "name = \"LJ\"\n",
    "age =22\n",
    "stu(name,age)\n",
    "\n",
    "stu(name,age,hobby=\"跑步\")\n",
    "\n",
    "stu(name,age,\"KQ\",hobby=\"烹饪\",hobby1=\"打游戏\")"
   ]
  },
  {
   "cell_type": "markdown",
   "metadata": {},
   "source": [
    "### 收集参数的解包问题\n",
    "- 使用参数放入list中直接把list/dict中的值放入收集参数中\n",
    "- 语法看案例"
   ]
  },
  {
   "cell_type": "code",
   "execution_count": 4,
   "metadata": {},
   "outputs": [
    {
     "name": "stdout",
     "output_type": "stream",
     "text": [
      "哈哈哈\n",
      "<class 'list'>\n",
      "0\n",
      "['LJ', 19, 20]\n",
      "________________________________________\n",
      "哈哈哈\n",
      "<class 'str'>\n",
      "0\n",
      "LJ\n",
      "<class 'int'>\n",
      "1\n",
      "19\n",
      "<class 'int'>\n",
      "2\n",
      "20\n"
     ]
    }
   ],
   "source": [
    "# 收集参数解包问题\n",
    "def stu(*args):\n",
    "    print(\"哈哈哈\")\n",
    "    n = 0\n",
    "    for i in args:\n",
    "        print(type(i))\n",
    "        print(n)\n",
    "        n += 1\n",
    "        print(i)\n",
    "#stu(\"LJ\",\"KQ\",19,20)\n",
    "l = ['LJ',19,20]\n",
    "\n",
    "stu(l)\n",
    "print(\"__\"*20)\n",
    "# 此时args的表示形式是tuple内一个list类型的元素\n",
    "# 很显然跟我们的想法违背\n",
    "\n",
    "# 此时的调用，我们用*解包\n",
    "stu(*l)"
   ]
  },
  {
   "cell_type": "markdown",
   "metadata": {},
   "source": [
    "### 同理，dict类型收集参数一样可以解包，但是\n",
    "- 对dict类型进行解包\n",
    "- 需要用两个星号** 解包"
   ]
  },
  {
   "cell_type": "markdown",
   "metadata": {},
   "source": [
    "# 返回值\n",
    "- 函数和过程的区别\n",
    "    - 有无返回值\n",
    "- 需要用return显示返回内容\n",
    "- 如果没有返回，则默认返回None\n",
    "- 推荐写法，有无返回值，最后都用return结束"
   ]
  },
  {
   "cell_type": "code",
   "execution_count": 42,
   "metadata": {},
   "outputs": [
    {
     "name": "stdout",
     "output_type": "stream",
     "text": [
      "有返回值\n",
      "1\n",
      "没有返回值\n",
      "None\n"
     ]
    }
   ],
   "source": [
    "# 返回值示例\n",
    "def func_1():\n",
    "    print(\"有返回值\")\n",
    "    return 1\n",
    "def func_2():\n",
    "    print(\"没有返回值\")\n",
    "\n",
    "f1 = func_1()\n",
    "print(f1)\n",
    "\n",
    "f2 = func_2()\n",
    "print(f2)"
   ]
  },
  {
   "cell_type": "markdown",
   "metadata": {},
   "source": [
    "# 函数文档\n",
    "- 函数文档的作用是对当前函数提供使用相关的参考信息\n",
    "- 文档的写法\n",
    "    - 在函数内部开始的第一行使用三引号字符串定义符相关信息参考\n",
    "    - 一般具有特定的格式\n",
    "    - 参看案例\n",
    "- 文档查看\n",
    "    - 使用help函数\n",
    "    - 使用__doc__，参看案例"
   ]
  },
  {
   "cell_type": "code",
   "execution_count": 5,
   "metadata": {
    "collapsed": true
   },
   "outputs": [],
   "source": [
    "# 文档案例\n",
    "# 函数stu是模拟一个学生自我介绍\n",
    "def stu(name,age,*args):\n",
    "    '''\n",
    "    这是文档\n",
    "    n: 吧啦啦啦\n",
    "    m; blablabla~\n",
    "    '''\n",
    "    print(\"This is function stu\")"
   ]
  },
  {
   "cell_type": "code",
   "execution_count": 6,
   "metadata": {},
   "outputs": [
    {
     "name": "stdout",
     "output_type": "stream",
     "text": [
      "Help on function stu in module __main__:\n",
      "\n",
      "stu(name, age, *args)\n",
      "    这是文档\n",
      "    n: 吧啦啦啦\n",
      "    m; blablabla~\n",
      "\n"
     ]
    },
    {
     "data": {
      "text/plain": [
       "'\\n    这是文档\\n    n: 吧啦啦啦\\n    m; blablabla~\\n    '"
      ]
     },
     "execution_count": 6,
     "metadata": {},
     "output_type": "execute_result"
    }
   ],
   "source": [
    "# 查看函数文档\n",
    "help(stu)\n",
    "stu.__doc__"
   ]
  },
  {
   "cell_type": "markdown",
   "metadata": {},
   "source": [
    "# 变量作用域\n",
    "- 变量由作用范围限制\n",
    "- 分类 按照作用域\n",
    "    - 全局变量（global)：在函数外部定义\n",
    "    - 局部(local)：在函数内部定义\n",
    "- 变量作用范围：\n",
    "    - 全局变量：在整个全局范围内都有效\n",
    "    - 全局变量在全局内都可以使用\n",
    "    - 局部变量在局部范围内可以使用\n",
    "    - 局部变量在全局范围无法使用\n",
    "- LEGB原则\n",
    "    - L(local)局部作用\n",
    "    - E(Enclosing function locale)外部嵌套函数作用域\n",
    "    - G(Global module)函数定义所在作用域\n",
    "    - B(Building):python内置魔抗的作用域"
   ]
  },
  {
   "cell_type": "code",
   "execution_count": 52,
   "metadata": {},
   "outputs": [
    {
     "name": "stdout",
     "output_type": "stream",
     "text": [
      "100\n",
      "100\n",
      "i am in func\n",
      "99\n"
     ]
    }
   ],
   "source": [
    "a1 = 100\n",
    "def func():\n",
    "    print(a1)\n",
    "    print(\"i am in func\")\n",
    "    a2 = 99\n",
    "    print(a2)\n",
    "\n",
    "print(a1)\n",
    "func()\n",
    "# print(a2) "
   ]
  },
  {
   "cell_type": "markdown",
   "metadata": {},
   "source": [
    "## 提升局部变量为全局变量\n",
    "- 使用global\n",
    "- 案例"
   ]
  },
  {
   "cell_type": "code",
   "execution_count": 2,
   "metadata": {},
   "outputs": [
    {
     "name": "stdout",
     "output_type": "stream",
     "text": [
      "100\n",
      "i am in func\n",
      "99\n",
      "100\n"
     ]
    }
   ],
   "source": [
    "# 提升局部变量\n",
    "\n",
    "def func():\n",
    "    global b1\n",
    "    b1 = 100\n",
    "    print(b1)\n",
    "    print(\"i am in func\")\n",
    "    b2 = 99\n",
    "    print(b2)\n",
    "func()\n",
    "print(b1)"
   ]
  },
  {
   "cell_type": "markdown",
   "metadata": {},
   "source": [
    "# globals , locals函数\n",
    "- 可以通过globals,locals显示出局部变量和全局变量\n",
    "- 参考案例"
   ]
  },
  {
   "cell_type": "code",
   "execution_count": 10,
   "metadata": {},
   "outputs": [
    {
     "name": "stdout",
     "output_type": "stream",
     "text": [
      "Locals = {'e': 111, 'd': 2, 'c': 1}\n"
     ]
    },
    {
     "ename": "IndexError",
     "evalue": "tuple index out of range",
     "traceback": [
      "\u001b[1;31m---------------------------------------------------------------------------\u001b[0m",
      "\u001b[1;31mIndexError\u001b[0m                                Traceback (most recent call last)",
      "\u001b[1;32m<ipython-input-10-0eb5ab9ea906>\u001b[0m in \u001b[0;36m<module>\u001b[1;34m()\u001b[0m\n\u001b[0;32m      8\u001b[0m     \u001b[0mprint\u001b[0m\u001b[1;33m(\u001b[0m\u001b[1;34m\"Globals = {1}\"\u001b[0m\u001b[1;33m.\u001b[0m\u001b[0mformat\u001b[0m\u001b[1;33m(\u001b[0m\u001b[0mglobals\u001b[0m\u001b[1;33m(\u001b[0m\u001b[1;33m)\u001b[0m\u001b[1;33m)\u001b[0m\u001b[1;33m)\u001b[0m\u001b[1;33m\u001b[0m\u001b[0m\n\u001b[0;32m      9\u001b[0m \u001b[1;33m\u001b[0m\u001b[0m\n\u001b[1;32m---> 10\u001b[1;33m \u001b[0mfun\u001b[0m\u001b[1;33m(\u001b[0m\u001b[0ma\u001b[0m\u001b[1;33m,\u001b[0m\u001b[0mb\u001b[0m\u001b[1;33m)\u001b[0m\u001b[1;33m\u001b[0m\u001b[0m\n\u001b[0m",
      "\u001b[1;32m<ipython-input-10-0eb5ab9ea906>\u001b[0m in \u001b[0;36mfun\u001b[1;34m(c, d)\u001b[0m\n\u001b[0;32m      6\u001b[0m     \u001b[0me\u001b[0m \u001b[1;33m=\u001b[0m \u001b[1;36m111\u001b[0m\u001b[1;33m\u001b[0m\u001b[0m\n\u001b[0;32m      7\u001b[0m     \u001b[0mprint\u001b[0m\u001b[1;33m(\u001b[0m\u001b[1;34m\"Locals = {0}\"\u001b[0m\u001b[1;33m.\u001b[0m\u001b[0mformat\u001b[0m\u001b[1;33m(\u001b[0m\u001b[0mlocals\u001b[0m\u001b[1;33m(\u001b[0m\u001b[1;33m)\u001b[0m\u001b[1;33m)\u001b[0m\u001b[1;33m)\u001b[0m\u001b[1;33m\u001b[0m\u001b[0m\n\u001b[1;32m----> 8\u001b[1;33m     \u001b[0mprint\u001b[0m\u001b[1;33m(\u001b[0m\u001b[1;34m\"Globals = {1}\"\u001b[0m\u001b[1;33m.\u001b[0m\u001b[0mformat\u001b[0m\u001b[1;33m(\u001b[0m\u001b[0mglobals\u001b[0m\u001b[1;33m(\u001b[0m\u001b[1;33m)\u001b[0m\u001b[1;33m)\u001b[0m\u001b[1;33m)\u001b[0m\u001b[1;33m\u001b[0m\u001b[0m\n\u001b[0m\u001b[0;32m      9\u001b[0m \u001b[1;33m\u001b[0m\u001b[0m\n\u001b[0;32m     10\u001b[0m \u001b[0mfun\u001b[0m\u001b[1;33m(\u001b[0m\u001b[0ma\u001b[0m\u001b[1;33m,\u001b[0m\u001b[0mb\u001b[0m\u001b[1;33m)\u001b[0m\u001b[1;33m\u001b[0m\u001b[0m\n",
      "\u001b[1;31mIndexError\u001b[0m: tuple index out of range"
     ],
     "output_type": "error"
    }
   ],
   "source": [
    "# globals locals\n",
    "a = 1 \n",
    "b = 2\n",
    "\n",
    "def fun(c,d):\n",
    "    e = 111\n",
    "    print(\"Locals = {0}\".format(locals()))\n",
    "    print(\"Globals = {1}\".format(globals()))\n",
    "    \n",
    "fun(a,b)"
   ]
  },
  {
   "cell_type": "markdown",
   "metadata": {},
   "source": [
    "# eval()函数\n",
    "- 把一个字符串当成一个表达式来执行，返回表达式的结果\n",
    "- 语法\n",
    "            \n",
    "            eval(string_code,globals=None,locals=None)\n",
    "            \n",
    "# exec()函数\n",
    "- 跟eval()函数类似但不返回值\n",
    "- 语法\n",
    "            \n",
    "            exec(string_code,globals=None,locals=None)\n",
    "            "
   ]
  },
  {
   "cell_type": "code",
   "execution_count": 69,
   "metadata": {},
   "outputs": [
    {
     "name": "stdout",
     "output_type": "stream",
     "text": [
      "300\n",
      "None\n"
     ]
    }
   ],
   "source": [
    "# eval() exec() 函数示例\n",
    "x = 100\n",
    "y = 200 \n",
    "z1 = eval(\"x + y\")\n",
    "z2 = exec(\"x + y\")\n",
    "print(z1)\n",
    "print(z2)"
   ]
  },
  {
   "cell_type": "markdown",
   "metadata": {},
   "source": [
    "# 递归函数\n",
    "- 函数直接或者间接调用自身\n",
    "- 优点：简洁， 理解容易\n",
    "- 缺点：对递归深度有限制，消耗资源大\n",
    "- python对递归有深度限制，超过限制报错\n",
    "- 在写递归程序时给出限制，一定要注意结束条件"
   ]
  },
  {
   "cell_type": "code",
   "execution_count": 77,
   "metadata": {
    "collapsed": true
   },
   "outputs": [],
   "source": [
    "# 递归调用深度限制\n",
    "x = 0\n",
    "\n",
    "def fun():\n",
    "    global x\n",
    "    x += 1\n",
    "    print(x)\n",
    "    # 函数调用自己\n",
    "    fun()\n",
    "# 调用函数\n",
    "#fun()"
   ]
  },
  {
   "cell_type": "code",
   "execution_count": 22,
   "metadata": {},
   "outputs": [
    {
     "name": "stdout",
     "output_type": "stream",
     "text": [
      "2\n",
      "55\n"
     ]
    }
   ],
   "source": [
    "# 斐波那契数列\n",
    "# 一列数字，第一个值是1，第二个值也是1，从第三个开始，每个数字的值等于前两个出现的值数之和\n",
    "# 数列公式：f(1) = 1,f(2) = 2,f(n) = f(n-1) + f(n-2)\n",
    "# 例如： 1，1，2，3，5，8，13......\n",
    "# 如果一开始n为负数，，如何修正？？\n",
    "# 第n个数字的斐波那契数列的值\n",
    "def fib(n):\n",
    "    if n == 1:\n",
    "        return 1\n",
    "    if n == 2:\n",
    "        return 1\n",
    "    # 思考： 为什么后面return能够正确执行，而不用else语句\n",
    "    return fib(n-1) + fib(n-2)\n",
    "    \n",
    "print(fib(3))\n",
    "print(fib(10))\n",
    "\n",
    "## 汉诺塔问题？"
   ]
  },
  {
   "cell_type": "markdown",
   "metadata": {},
   "source": [
    "### 汉诺塔问题\n",
    "- 规则 \n",
    "    1. 每次只能移动一个盘子\n",
    "    2. 任何一次移动，三个塔的状态必须是小盘子在上，大盘子在下\n",
    "- 方法\n",
    "    1. n=1:直接把A上的盘子移动到C上\n",
    "    2. n=2:\n",
    "        1.把小盘子从A放到B上，A -> B\n",
    "        2.把大盘子从A放到C上，A ->C\n",
    "        3.把小盘子从B放到C上，B ->C\n",
    "    3. n=3:\n",
    "        1.把A上的两个盘子通过C移动到B上，递归调用实现\n",
    "        2.把A上剩下的大盘子移动到C上， A -> c\n",
    "        3.把B上的两个盘子移动到C上，递归调用实现\n",
    "    4. n=n:\n",
    "        1.把A上的n-1个盘子借助C移动到B上，调用递归\n",
    "        2.把A上最大的盘子移动到C， A -> c\n",
    "        3.把B上的盘子移动到C上，调用递归\n",
    "        "
   ]
  },
  {
   "cell_type": "code",
   "execution_count": 3,
   "metadata": {},
   "outputs": [
    {
     "name": "stdout",
     "output_type": "stream",
     "text": [
      "A --> C\n"
     ]
    }
   ],
   "source": [
    "# 汉诺塔\n",
    "def hano(n,a,b,c):\n",
    "    '''\n",
    "    汉诺塔递归调用实现\n",
    "    n:代表n个盘子\n",
    "    a:达标第一个塔，开始塔\n",
    "    b:代表第二个塔,过度塔\n",
    "    c:打包第三个塔，目标塔\n",
    "    '''\n",
    "    if n == 1:\n",
    "        print(a ,\"-->\",c)\n",
    "        return None\n",
    "    \n",
    "    if n == 2:\n",
    "        print(a,\"-->\",b)\n",
    "        print(a,\"-->\",c)\n",
    "        print(b,\"-->\",c)\n",
    "        return None\n",
    "    # 把n-1个盘子从a塔借助于c塔，挪到b塔去\n",
    "    hano(n-1,a,c,b)\n",
    "    \n",
    "    print(a,\"-->\",c)\n",
    "    # 把n-1个盘子从b塔借助于a塔挪到c塔去\n",
    "    hano(n-1,b,a,c)\n",
    "a = \"A\"\n",
    "b = \"B\"\n",
    "c = \"C\"\n",
    "\n",
    "n = 1\n",
    "hano(n,a,b,c)\n"
   ]
  },
  {
   "cell_type": "code",
   "execution_count": 5,
   "metadata": {},
   "outputs": [
    {
     "name": "stdout",
     "output_type": "stream",
     "text": [
      "A --> B\n",
      "A --> C\n",
      "B --> C\n"
     ]
    }
   ],
   "source": [
    "n = 2 \n",
    "hano(n,a,b,c)"
   ]
  },
  {
   "cell_type": "code",
   "execution_count": 6,
   "metadata": {
    "scrolled": true
   },
   "outputs": [
    {
     "name": "stdout",
     "output_type": "stream",
     "text": [
      "A --> C\n",
      "A --> B\n",
      "C --> B\n",
      "A --> C\n",
      "B --> A\n",
      "B --> C\n",
      "A --> C\n"
     ]
    }
   ],
   "source": [
    "n = 3\n",
    "hano(n,a,b,c)"
   ]
  },
  {
   "cell_type": "markdown",
   "metadata": {},
   "source": [
    "# 内置数据结构（变量类型）\n",
    "- list \n",
    "- set \n",
    "- dict\n",
    "- tuple\n",
    "## list(列表)\n",
    "- 一组由顺序的数据组合\n",
    "- 创建list\n",
    "    - 空列表"
   ]
  },
  {
   "cell_type": "code",
   "execution_count": 5,
   "metadata": {},
   "outputs": [
    {
     "name": "stdout",
     "output_type": "stream",
     "text": [
      "<class 'list'>\n",
      "[]\n",
      "<class 'list'>\n",
      "[100, 11, 12, 13]\n",
      "<class 'list'>\n",
      "[]\n"
     ]
    }
   ],
   "source": [
    "# 1.创建空列表\n",
    "l1 = []\n",
    "print(type(l1))\n",
    "print(l1)\n",
    "# 2.创建带值的列表\n",
    "l2 = [100,11,12,13]\n",
    "print(type(l2))\n",
    "print(l2)\n",
    "# 3.使用list()\n",
    "l3 = list()\n",
    "print(type(l3))\n",
    "print(l3)"
   ]
  },
  {
   "cell_type": "markdown",
   "metadata": {},
   "source": [
    "## 列表常用操作\n",
    "- 访问\n",
    "    - 使用下标操作（索引）\n",
    "    - 列表的位置是从0开始\n",
    "- 分片操作\n",
    "    - 对列表进行任意一段的截取\n",
    "    - l[:]"
   ]
  },
  {
   "cell_type": "code",
   "execution_count": 1,
   "metadata": {
    "collapsed": true
   },
   "outputs": [],
   "source": [
    "# 下标访问列表\n",
    "l = [3,1,5,6,7,25]\n"
   ]
  },
  {
   "cell_type": "code",
   "execution_count": 15,
   "metadata": {},
   "outputs": [
    {
     "name": "stdout",
     "output_type": "stream",
     "text": [
      "[3, 1, 5, 6]\n",
      "[3, 1, 5, 6, 7, 25]\n",
      "[3, 1, 5, 6]\n",
      "[5, 6, 7, 25]\n",
      "[1, 7]\n",
      "[1, 5, 6, 7, 25]\n",
      "[]\n",
      "[5, 6]\n",
      "[25, 7, 6]\n"
     ]
    }
   ],
   "source": [
    "# 分片操作\n",
    "# 注意截取的范围，包含左边的下标值，不包含右边的下表值\n",
    "print(l[0:4])\n",
    "\n",
    "# 下标值可以为空，如果不写，左边下标值默认为0，右边下标值为最大数加一，即表示截取到最后一个数据\n",
    "print(l[:])\n",
    "print(l[:4])\n",
    "print(l[2:])\n",
    "\n",
    "# 分片可以控制增长幅度，默认增长幅度为1\n",
    "print(l[1:6:3])\n",
    "\n",
    "# 下标可以超出范围，超出后不在考虑多余下表内容\n",
    "print(l[1:10])\n",
    "\n",
    "# 下标值，增长幅度可以为负数\n",
    "# 为负数表示从右往左\n",
    "# 规定：最后一个数字的下表是：-1\n",
    "print(l[-2:-4])\n",
    "\n",
    "# 上面显示为空，因为默认分片总是从左向右截取\n",
    "# 即正常情况下，分片左边的值一定小于右边的值\n",
    "print(l[-4:-2])\n",
    "\n",
    "# 入果分片一定左边值比右边大，则步长参数需要使用负数\n",
    "print(l[-1:-4:-1])"
   ]
  },
  {
   "cell_type": "markdown",
   "metadata": {},
   "source": [
    "## 分片操作是生成一个新的list\n",
    "- 内置函数id, 负责显示一个变量或者数据的唯一确定编号"
   ]
  },
  {
   "cell_type": "code",
   "execution_count": 17,
   "metadata": {},
   "outputs": [
    {
     "name": "stdout",
     "output_type": "stream",
     "text": [
      "1829137664\n",
      "1829140864\n",
      "1829137664\n"
     ]
    }
   ],
   "source": [
    "# id函数举例\n",
    "a =100\n",
    "b =200\n",
    "print(id(a))\n",
    "print(id(b))\n",
    "\n",
    "c = a\n",
    "print(id(c))\n",
    "\n",
    "# 如果a和c只想一份数据，则更改a的值同样会更改c的值\n",
    "# 但是， 显示结果并非如此，为什么？\n",
    "a = 101\n",
    "print(a)\n",
    "print(c)"
   ]
  },
  {
   "cell_type": "code",
   "execution_count": 21,
   "metadata": {},
   "outputs": [
    {
     "name": "stdout",
     "output_type": "stream",
     "text": [
      "3011155030088\n",
      "3011155033160\n",
      "3011155033160\n",
      "[2, 100, 5, 6, 7, 3, 0]\n",
      "[2, 4, 5, 6, 7, 3, 0]\n",
      "[2, 100, 5, 6, 7, 3, 0]\n",
      "[2, 100, 5, 6, 7, 3, 0]\n"
     ]
    }
   ],
   "source": [
    "# 通过id 可以直接判断出分片是从新生成一份数据还是同一份数据\n",
    "l = [2,4,5,6,7,3,0,]\n",
    "ll = l[:]\n",
    "lll = ll\n",
    "# 如果两个id值一样，则表明参数的列表是使用的同一地址同一份数据\n",
    "# 否则，分片则是生成了新的一份数据，然后把数据拷贝到新的列表\n",
    "\n",
    "print(id(l))\n",
    "print(id(ll))\n",
    "print(id(lll))\n",
    "\n",
    "# 通过id知道，ll和lll是同一份数据，验证代码如下\n",
    "l[1] = 100\n",
    "print(l)\n",
    "print(ll)\n",
    "ll[1] = 100\n",
    "print(ll)\n",
    "print(lll)"
   ]
  },
  {
   "cell_type": "markdown",
   "metadata": {},
   "source": [
    "# list（列表）\n",
    "- del 删除命令\n",
    "    - del 一个变量后不能继续使用"
   ]
  },
  {
   "cell_type": "code",
   "execution_count": 7,
   "metadata": {},
   "outputs": [
    {
     "name": "stdout",
     "output_type": "stream",
     "text": [
      "[1, 2, 3, 4]\n"
     ]
    }
   ],
   "source": [
    "# del 删除\n",
    "a = [1,2,3,4,5]\n",
    "del a[4]\n",
    "print(a)"
   ]
  },
  {
   "cell_type": "code",
   "execution_count": 9,
   "metadata": {},
   "outputs": [
    {
     "name": "stdout",
     "output_type": "stream",
     "text": [
      "2729029693064\n",
      "2729029693064\n",
      "[1, 2, 3, 4]\n"
     ]
    }
   ],
   "source": [
    "# del 删除\n",
    "# 使用del后，id的值和删除前不一样，则说明删除生成了新的list\n",
    "a = [1,2,3,4,5]\n",
    "print(id(a))\n",
    "del a[4]\n",
    "print(id(a))\n",
    "print(a)"
   ]
  },
  {
   "cell_type": "markdown",
   "metadata": {},
   "source": [
    "### 列表相加\n",
    "- 使用加号链接两个列表"
   ]
  },
  {
   "cell_type": "code",
   "execution_count": 11,
   "metadata": {},
   "outputs": [
    {
     "name": "stdout",
     "output_type": "stream",
     "text": [
      "[1, 2, 3, 4, 5, 6, 7, 8, 9, 10, 'a', 'b', 'c']\n"
     ]
    }
   ],
   "source": [
    "a = [1,2,3,4,5]\n",
    "b = [6,7,8,9,10]\n",
    "d = ['a','b','c']\n",
    "c = a + b + d\n",
    "print(c)"
   ]
  },
  {
   "cell_type": "code",
   "execution_count": 13,
   "metadata": {},
   "outputs": [
    {
     "name": "stdout",
     "output_type": "stream",
     "text": [
      "[1, 2, 4, 1, 2, 4, 1, 2, 4]\n"
     ]
    }
   ],
   "source": [
    "# 使用乘号操作列表\n",
    "# 列表直接跟一个整数相乘\n",
    "# 相当于把n个列表链接在一起\n",
    "a = [1,2,4]\n",
    "b = a * 3\n",
    "print(b)"
   ]
  },
  {
   "cell_type": "code",
   "execution_count": 17,
   "metadata": {},
   "outputs": [
    {
     "name": "stdout",
     "output_type": "stream",
     "text": [
      "True\n",
      "True\n"
     ]
    }
   ],
   "source": [
    "# 成员资格运算\n",
    "# 就是判断一个元素是否在list里面\n",
    "a = [1,2,3,4,5,6]\n",
    "b  = [8]\n",
    "\n",
    "# c 是一个布尔值\n",
    "c = b not in a\n",
    "print(c)\n",
    "\n",
    "b = 4\n",
    "c = b in a\n",
    "print(c)"
   ]
  },
  {
   "cell_type": "markdown",
   "metadata": {},
   "source": [
    "# 列表遍历\n",
    "- for \n",
    "- while(一般不用）"
   ]
  },
  {
   "cell_type": "code",
   "execution_count": 18,
   "metadata": {},
   "outputs": [
    {
     "name": "stdout",
     "output_type": "stream",
     "text": [
      "1\n",
      "2\n",
      "3\n",
      "4\n",
      "5\n"
     ]
    }
   ],
   "source": [
    "# for in list\n",
    "a = [1,2,3,4,5]\n",
    "\n",
    "# 挨个打印a里面的元素\n",
    "for i in a:\n",
    "    print(i)"
   ]
  },
  {
   "cell_type": "code",
   "execution_count": 21,
   "metadata": {},
   "outputs": [
    {
     "name": "stdout",
     "output_type": "stream",
     "text": [
      "1\n",
      "2\n",
      "3\n",
      "4\n",
      "5\n"
     ]
    }
   ],
   "source": [
    "# while 循环访问list\n",
    "a = [1,2,3,4,5]\n",
    "length = len(a)\n",
    "# indx表示的是list的下标\n",
    "indx = 0\n",
    "while indx < length:\n",
    "    print(a[indx])\n",
    "    indx += 1"
   ]
  },
  {
   "cell_type": "code",
   "execution_count": 22,
   "metadata": {},
   "outputs": [
    {
     "name": "stdout",
     "output_type": "stream",
     "text": [
      "one --> 1\n",
      "two --> 2\n",
      "three --> 3\n"
     ]
    }
   ],
   "source": [
    "# 双层列表循环\n",
    "# a为嵌套列表，或者双层列表\n",
    "a = [[\"one\",1],[\"two\",2],[\"three\",3]]\n",
    "\n",
    "for k,v in a:\n",
    "    print(k,\"-->\",v)"
   ]
  },
  {
   "cell_type": "code",
   "execution_count": 26,
   "metadata": {},
   "outputs": [
    {
     "name": "stdout",
     "output_type": "stream",
     "text": [
      "one -- 1 -- eins\n",
      "two -- 2 -- ee\n",
      "three -- 3 -- aa\n"
     ]
    }
   ],
   "source": [
    "#双层列表循环变异\n",
    "# a为嵌套列表，或者双层列表\n",
    "a = [[\"one\",1,\"eins\"],[\"two\",2,\"ee\"],[\"three\",3,\"aa\"]]\n",
    "c\n",
    "for k,v,w in a:\n",
    "    print(k,\"--\",v,\"--\",w)"
   ]
  },
  {
   "cell_type": "markdown",
   "metadata": {},
   "source": [
    "# 列表内涵：list content\n",
    "- 通过简单方法创建列表"
   ]
  },
  {
   "cell_type": "code",
   "execution_count": 28,
   "metadata": {},
   "outputs": [
    {
     "name": "stdout",
     "output_type": "stream",
     "text": [
      "['a', 'b', 'c']\n"
     ]
    }
   ],
   "source": [
    "# for 创建\n",
    "a = ['a','b','c']\n",
    "# 用list a 创建一个 list b\n",
    "# 下面代码的含义是，对于所有a元素，逐个放入新的列表b中\n",
    "b = [i for i in a]\n",
    "print(b)"
   ]
  },
  {
   "cell_type": "code",
   "execution_count": 31,
   "metadata": {},
   "outputs": [
    {
     "name": "stdout",
     "output_type": "stream",
     "text": [
      "[10, 20, 30]\n"
     ]
    }
   ],
   "source": [
    "# 对a 中所有元素乘以10，生成一个新list\n",
    "a = [1,2,3]\n",
    "# 用list a 创建一个 list b\n",
    "# 下面代码的含义是，对于所有a元素，逐个放入新的列表b中\n",
    "b = [i*10 for i in a]\n",
    "print(b)"
   ]
  },
  {
   "cell_type": "code",
   "execution_count": 33,
   "metadata": {},
   "outputs": [
    {
     "name": "stdout",
     "output_type": "stream",
     "text": [
      "[2, 4, 6, 8, 10, 12, 14, 16, 18, 20, 22, 24, 26, 28, 30, 32, 34]\n"
     ]
    }
   ],
   "source": [
    "# 还可以过滤原来list中内容放入新列表\n",
    "# 比如原有列表a ,需要把所有a中的偶数生成新的列表b\n",
    "a = [x for x in range(1,35)]\n",
    "b = [m for m in a if m%2 == 0]\n",
    "print(b)"
   ]
  },
  {
   "cell_type": "code",
   "execution_count": 35,
   "metadata": {},
   "outputs": [
    {
     "name": "stdout",
     "output_type": "stream",
     "text": [
      "[1, 2, 3]\n",
      "[100, 200, 300]\n",
      "[101, 201, 301, 102, 202, 302, 103, 203, 303]\n",
      "101 201 301 102 202 302 103 203 303 \n"
     ]
    }
   ],
   "source": [
    "# 列表生成可以嵌套\n",
    "# 由两个列表a,b\n",
    "a = [i for i in range(1,4)]\n",
    "print(a)\n",
    "\n",
    "b = [i for i in range(100,400) if i % 100 ==0]\n",
    "print(b)\n",
    "\n",
    "c = [m + n for m in a for n in b]\n",
    "print(c)\n",
    "\n",
    "for m in a:\n",
    "    for n in b:\n",
    "        print(m + n,end=\" \")\n",
    "print()"
   ]
  },
  {
   "cell_type": "markdown",
   "metadata": {},
   "source": [
    "## 关于列表常用函数\n",
    "- append : 插入一个内容"
   ]
  },
  {
   "cell_type": "code",
   "execution_count": 37,
   "metadata": {},
   "outputs": [
    {
     "name": "stdout",
     "output_type": "stream",
     "text": [
      "99\n",
      "99\n",
      "python\n"
     ]
    }
   ],
   "source": [
    "# len(): 求列表长度\n",
    "a = [x for x in range(1,100)]\n",
    "print(len(a))\n",
    "\n",
    "# max(): 求列表最大值\n",
    "print(max(a))\n",
    "b = [\"man\",\"film\",\"python\"]\n",
    "print(max(b))"
   ]
  },
  {
   "cell_type": "code",
   "execution_count": 41,
   "metadata": {},
   "outputs": [
    {
     "name": "stdout",
     "output_type": "stream",
     "text": [
      "['I', ' ', 'l', 'o', 'v', 'e', ' ', 'K', 'Q']\n",
      "[1, 2, 3, 4, 5, 6, 7, 8, 9]\n"
     ]
    }
   ],
   "source": [
    "# list(): 将其它格式的数据转换成list\n",
    "a = \"I love KQ\"\n",
    "print(list(a))\n",
    "\n",
    "# 把range产生的内容转换成list\n",
    "print(list(range(1,10)))"
   ]
  },
  {
   "cell_type": "code",
   "execution_count": 44,
   "metadata": {},
   "outputs": [
    {
     "name": "stdout",
     "output_type": "stream",
     "text": [
      "[1, 2, 3, 4, 5]\n",
      "[1, 2, 3, 4, 5, 100]\n"
     ]
    }
   ],
   "source": [
    "# append 插入一个内容,在末尾追加\n",
    "\n",
    "a =[ i for i in range(1,6)]\n",
    "print(a)\n",
    "a.append(100)\n",
    "print(a)"
   ]
  },
  {
   "cell_type": "code",
   "execution_count": 2,
   "metadata": {},
   "outputs": [
    {
     "name": "stdout",
     "output_type": "stream",
     "text": [
      "[1, 2, 3, 4, 5]\n",
      "[1, 2, 3, 666, 4, 5]\n"
     ]
    }
   ],
   "source": [
    "# insert： 指定位置插入\n",
    "# insert(index,date), 插入位置是index前面\n",
    "a =[ i for i in range(1,6)]\n",
    "print(a)\n",
    "a.insert(3,666)\n",
    "print(a)"
   ]
  },
  {
   "cell_type": "code",
   "execution_count": 3,
   "metadata": {},
   "outputs": [
    {
     "name": "stdout",
     "output_type": "stream",
     "text": [
      "[1, 2, 3, 666, 4, 5]\n",
      "5\n",
      "[1, 2, 3, 666, 4]\n"
     ]
    }
   ],
   "source": [
    "# 删除\n",
    "# del 删除\n",
    "# pop, 从队未拿出一个元素，即把最后一个元素取出来\n",
    "print(a)\n",
    "last_ele = a.pop()\n",
    "print(last_ele)\n",
    "print(a)"
   ]
  },
  {
   "cell_type": "code",
   "execution_count": 2,
   "metadata": {},
   "outputs": [
    {
     "name": "stdout",
     "output_type": "stream",
     "text": [
      "[1, 2, 3, 666, 4, 5]\n",
      "1682771132104\n",
      "1682771132104\n",
      "[1, 2, 3, 4, 5]\n"
     ]
    }
   ],
   "source": [
    "# remove:在一个列表中删除指定的值元素\n",
    "# 如果被删除的值不在list 中，则报错\n",
    "# 即，删除list指定值的操作应使用try...except语句，或首先进行判断\n",
    "# if x in list:\n",
    "#     list.remove(x)\n",
    "a =[ i for i in range(1,6)]\n",
    "a.insert(3,666)\n",
    "print(a)\n",
    "print(id(a))\n",
    "a.remove(666)\n",
    "print(id(a))\n",
    "print(a)\n",
    "# id值一样 ，说明remove操作在list直接操作"
   ]
  },
  {
   "cell_type": "code",
   "execution_count": 4,
   "metadata": {},
   "outputs": [
    {
     "name": "stdout",
     "output_type": "stream",
     "text": [
      "[1, 2, 3, 4, 5]\n",
      "1682789401672\n",
      "[]\n",
      "1682789401672\n"
     ]
    }
   ],
   "source": [
    "# clear: 清空\n",
    "a =[ i for i in range(1,6)]\n",
    "print(a)\n",
    "print(id(a))\n",
    "a.clear()\n",
    "print(a)\n",
    "print(id(a))\n",
    "\n",
    "# 如果不需要列表地址保持不变，则清空列表可以使用以下方式\n",
    "# a = list\n",
    "# a = []"
   ]
  },
  {
   "cell_type": "code",
   "execution_count": 7,
   "metadata": {},
   "outputs": [
    {
     "name": "stdout",
     "output_type": "stream",
     "text": [
      "[1, 2, 3, 4, 5]\n",
      "1682789401800\n",
      "[5, 4, 3, 2, 1]\n",
      "1682789401800\n"
     ]
    }
   ],
   "source": [
    "# reverse: 翻转,原地翻转\n",
    "a = [1,2,3,4,5]\n",
    "print(a)\n",
    "print(id(a))\n",
    "a.reverse()\n",
    "print(a)\n",
    "print(id(a))"
   ]
  },
  {
   "cell_type": "code",
   "execution_count": 9,
   "metadata": {},
   "outputs": [
    {
     "name": "stdout",
     "output_type": "stream",
     "text": [
      "[1, 2, 3, 4, 5]\n",
      "[6, 7, 8, 9, 10]\n",
      "[1, 2, 3, 4, 5, 6, 7, 8, 9, 10]\n",
      "1682789198728\n"
     ]
    }
   ],
   "source": [
    "# extend : 扩展列表，两个列表，把一个直接拼接到后一个上\n",
    "\n",
    "a = [1,2,3,4,5]\n",
    "b = [6,7,8,9,10]\n",
    "\n",
    "print(a)\n",
    "print(b)\n",
    "\n",
    "a.extend(b)\n",
    "print(a)\n",
    "print(id(a))"
   ]
  },
  {
   "cell_type": "code",
   "execution_count": 11,
   "metadata": {},
   "outputs": [
    {
     "name": "stdout",
     "output_type": "stream",
     "text": [
      "[1, 2, 3, 4, 8, 5, 6, 7, 8, 9, 10, 8]\n",
      "[1, 2, 3, 4, 8, 8, 5, 6, 7, 8, 9, 10, 8, 8]\n",
      "5\n"
     ]
    }
   ],
   "source": [
    "# count: 查找列表中指定值或元素个数\n",
    "print(a)\n",
    "a.append(8)\n",
    "a.insert(4,8)\n",
    "print(a)\n",
    "a_len = a.count(8)\n",
    "print(a_len)\n"
   ]
  },
  {
   "cell_type": "code",
   "execution_count": 14,
   "metadata": {},
   "outputs": [
    {
     "name": "stdout",
     "output_type": "stream",
     "text": [
      "[1, 2, 3, 4, 5]\n",
      "1682788705352\n",
      "[1, 2, 3, 777, 5]\n",
      "1682788705352\n",
      "[1, 2, 3, 777, 5]\n",
      "1682788705352\n",
      "________________________________________\n",
      "[1, 2, 3, 777, 5]\n",
      "1682788705352\n",
      "[1, 2, 3, 777, 5]\n",
      "1682789401352\n",
      "[1, 2, 3, 777, 5]\n",
      "[1, 2, 3, 888, 5]\n"
     ]
    }
   ],
   "source": [
    "# copy(): 拷贝，浅拷贝\n",
    "\n",
    "# 列表类型变量赋值示例\n",
    "a = [1,2,3,4,5]\n",
    "print(a)\n",
    "print(id(a))\n",
    "b = a\n",
    "b[3] = 777\n",
    "print(a)\n",
    "print(id(a))\n",
    "print(b)\n",
    "print(id(b))\n",
    "\n",
    "print(\"__\"*20)\n",
    "# 为了解决上面的问题， list赋值需要采用copy函数\n",
    "b = a.copy()\n",
    "print(a)\n",
    "print(id(a))\n",
    "print(b)\n",
    "print(id(b))\n",
    "\n",
    "b[3] = 888\n",
    "print(a)\n",
    "print(b)"
   ]
  },
  {
   "cell_type": "code",
   "execution_count": 17,
   "metadata": {},
   "outputs": [
    {
     "name": "stdout",
     "output_type": "stream",
     "text": [
      "1682789404360\n",
      "1682789404360\n",
      "[1, 2, 3, [10, 20, 666]]\n",
      "[1, 2, 3, [10, 20, 666]]\n"
     ]
    }
   ],
   "source": [
    "# 深拷贝跟浅拷贝的区别\n",
    "# 出现下列问题的原因是，copy函数是个浅拷贝函数，即只考虑一层内容\n",
    "# 深拷贝需要用特定工具\n",
    "\n",
    "a= [1,2,3,[10,20,30]]\n",
    "b = a.copy()\n",
    "print(id(a[3]))\n",
    "print(id(b[3]))\n",
    "a[3][2] = 666\n",
    "print(a)\n",
    "print(b)"
   ]
  },
  {
   "cell_type": "markdown",
   "metadata": {},
   "source": [
    "# 元组-tuple\n",
    "- 元组可以看成是一个不可更改的list\n",
    "## 元组创建"
   ]
  },
  {
   "cell_type": "code",
   "execution_count": 22,
   "metadata": {},
   "outputs": [
    {
     "name": "stdout",
     "output_type": "stream",
     "text": [
      "<class 'tuple'>\n",
      "<class 'tuple'>\n",
      "(1,)\n",
      "<class 'tuple'>\n",
      "(1,)\n",
      "<class 'tuple'>\n",
      "(1, 2, 4, 5)\n",
      "<class 'tuple'>\n",
      "(1, 2, 3, 4)\n"
     ]
    }
   ],
   "source": [
    "# 创建元组\n",
    "t = ()\n",
    "print(type(t))\n",
    "\n",
    "# 创建一个只有一个值的元组\n",
    "t = (1,)\n",
    "print(type(t))\n",
    "print(t)\n",
    "\n",
    "t = 1,\n",
    "print(type(t))\n",
    "print(t)\n",
    "\n",
    "# 创建多个值的元组\n",
    "t = (1,2,4,5)\n",
    "print(type(t))\n",
    "print(t)\n",
    "\n",
    "# 使用其它结构创建\n",
    "l = [1,2,3,4]\n",
    "t = tuple(l)\n",
    "print(type(t))\n",
    "print(t)"
   ]
  },
  {
   "cell_type": "markdown",
   "metadata": {},
   "source": [
    "## 元组的特性\n",
    "- 是序列表，有序\n",
    "- 元组数据值可以访问，不能更改\n",
    "- 元组数据可以是任意类型\n",
    "- 总之，list所有特性，除了不可修改外，元组都具有\n",
    "- 也就意味着，list的一些索引，比如索引，分片，序列相加，相乘，成员资格操作等"
   ]
  },
  {
   "cell_type": "markdown",
   "metadata": {},
   "source": [
    "### 元组变量交换法\n",
    "- 交换两个变量"
   ]
  },
  {
   "cell_type": "code",
   "execution_count": 24,
   "metadata": {},
   "outputs": [
    {
     "name": "stdout",
     "output_type": "stream",
     "text": [
      "1\n",
      "3\n",
      "3\n",
      "1\n"
     ]
    }
   ],
   "source": [
    "# 两个变量交换\n",
    "a =1\n",
    "b =3\n",
    "\n",
    "print(a)\n",
    "print(b)\n",
    "# 交换\n",
    "a,b = b,a\n",
    "print(a)\n",
    "print(b)"
   ]
  },
  {
   "cell_type": "markdown",
   "metadata": {},
   "source": [
    "# 集合-set\n",
    "- 集合是高中数学中的一个概念\n",
    "- 一堆确定的无序的唯一的数据，集合中每个数据成为一个元素\n"
   ]
  },
  {
   "cell_type": "code",
   "execution_count": 26,
   "metadata": {},
   "outputs": [
    {
     "name": "stdout",
     "output_type": "stream",
     "text": [
      "<class 'set'>\n",
      "set()\n"
     ]
    }
   ],
   "source": [
    "# 集合定义\n",
    "s = set()\n",
    "print(type(s))\n",
    "print(s)"
   ]
  },
  {
   "cell_type": "code",
   "execution_count": 28,
   "metadata": {},
   "outputs": [
    {
     "name": "stdout",
     "output_type": "stream",
     "text": [
      "<class 'dict'>\n",
      "{}\n"
     ]
    }
   ],
   "source": [
    " # 如果只是用大括号定义，这定义一个dict 类型\n",
    "d = {}\n",
    "print(type(d))\n",
    "print(d)"
   ]
  },
  {
   "cell_type": "markdown",
   "metadata": {},
   "source": [
    "## 集合的特征\n",
    "- 集合内数据无序，即无法使用分片和索引\n",
    "- 集合内部数据元素具有唯一性，可以用来排除重复数据\n",
    "- 集合内的数据，str,int,float, tuple,冰冻集合等，即内部只能放置可哈希数据"
   ]
  },
  {
   "cell_type": "markdown",
   "metadata": {},
   "source": [
    "## 集合序列操作"
   ]
  },
  {
   "cell_type": "code",
   "execution_count": 30,
   "metadata": {},
   "outputs": [
    {
     "name": "stdout",
     "output_type": "stream",
     "text": [
      "{'i', 'student', 4, 5, 'am'}\n",
      "对\n",
      "Yes\n"
     ]
    }
   ],
   "source": [
    "# 成员检测\n",
    "# in， not in\n",
    "s = {4,5,\"i\",\"am\",\"student\"}\n",
    "print(s)\n",
    "\n",
    "if \"am\" in s:\n",
    "    print(\"对\")\n",
    "if \"haha\" not in s:\n",
    "    print(\"Yes\")"
   ]
  },
  {
   "cell_type": "markdown",
   "metadata": {},
   "source": [
    "## 集合遍历操作"
   ]
  },
  {
   "cell_type": "code",
   "execution_count": 33,
   "metadata": {},
   "outputs": [
    {
     "name": "stdout",
     "output_type": "stream",
     "text": [
      "i student 4 5 am "
     ]
    }
   ],
   "source": [
    "# for 循环\n",
    "s = {4,5,\"i\",\"am\",\"student\"}\n",
    "\n",
    "for i in s:\n",
    "    print(i,end=\" \")"
   ]
  },
  {
   "cell_type": "code",
   "execution_count": 4,
   "metadata": {},
   "outputs": [
    {
     "name": "stdout",
     "output_type": "stream",
     "text": [
      "i am student\n",
      "4 5 6\n",
      "1 2 3\n",
      "('i', 'am', 'student')\n",
      "(4, 5, 6)\n",
      "(1, 2, 3)\n"
     ]
    }
   ],
   "source": [
    "# 带有元组的集合遍历\n",
    "s = {(1,2,3),(4,5,6),(\"i\",\"am\",\"student\")}\n",
    "\n",
    "for k, m, n in s:\n",
    "    print(k,m,n)\n",
    "\n",
    "for k in s:\n",
    "    print(k)"
   ]
  },
  {
   "cell_type": "markdown",
   "metadata": {},
   "source": [
    "## 集合的内涵\n"
   ]
  },
  {
   "cell_type": "code",
   "execution_count": 5,
   "metadata": {},
   "outputs": [
    {
     "name": "stdout",
     "output_type": "stream",
     "text": [
      "{1, 2, 3, 4, 23333, 233, 23, 2333}\n",
      "{1, 2, 3, 4, 23333, 233, 23, 2333}\n"
     ]
    }
   ],
   "source": [
    "# 普通集合函数\n",
    "# 以下集合在初始化后自动过滤掉重复元素\n",
    "s = {23,233,2333,23333,1,2,3,4,1,4,3,2,4,}\n",
    "print(s)\n",
    "\n",
    "# 普通集合函数\n",
    "ss = {i for i in s}\n",
    "print(ss)"
   ]
  },
  {
   "cell_type": "code",
   "execution_count": 6,
   "metadata": {},
   "outputs": [
    {
     "name": "stdout",
     "output_type": "stream",
     "text": [
      "{2, 4}\n"
     ]
    }
   ],
   "source": [
    "# 带条件的集合函数\n",
    "sss = {i for i in s if i % 2 == 0}\n",
    "print(sss)"
   ]
  },
  {
   "cell_type": "code",
   "execution_count": 7,
   "metadata": {},
   "outputs": [
    {
     "name": "stdout",
     "output_type": "stream",
     "text": [
      "{'amamam', 'am', 'amamamam', 'ii', 'studentstudent', 'studentstudentstudentstudent', 'iiii', 'iii', 'student', 'i', 'amam', 'studentstudentstudent'}\n",
      "{'amam', 'ii', 'studentstudent'}\n"
     ]
    }
   ],
   "source": [
    "#多循环集合函数\n",
    "s1 = {1,2,3,4}\n",
    "s2 = {\"i\",\"am\",\"student\"}\n",
    "\n",
    "s = {m*n for m in s2 for n in s1}\n",
    "print(s)\n",
    "\n",
    "s = {m*n for m in s2 for n in s1 if n == 2}\n",
    "print(s)"
   ]
  },
  {
   "cell_type": "markdown",
   "metadata": {},
   "source": [
    "## 集合函数/关于集合的函数"
   ]
  },
  {
   "cell_type": "code",
   "execution_count": 10,
   "metadata": {},
   "outputs": [
    {
     "name": "stdout",
     "output_type": "stream",
     "text": [
      "4\n",
      "313\n",
      "4\n"
     ]
    }
   ],
   "source": [
    "# len, max, min 跟其他基本函数一致\n",
    "s = {4,5,223,313}\n",
    "print(len(s))\n",
    "print(max(s))\n",
    "print(min(s))"
   ]
  },
  {
   "cell_type": "code",
   "execution_count": 11,
   "metadata": {},
   "outputs": [
    {
     "name": "stdout",
     "output_type": "stream",
     "text": [
      "{2, 35, 4, 5}\n"
     ]
    }
   ],
   "source": [
    "# set() 生成一个集合\n",
    "l = [2,35,5,4]\n",
    "s = set(l)\n",
    "print(s)"
   ]
  },
  {
   "cell_type": "code",
   "execution_count": 13,
   "metadata": {},
   "outputs": [
    {
     "name": "stdout",
     "output_type": "stream",
     "text": [
      "{1, 42}\n"
     ]
    }
   ],
   "source": [
    "# add: 向集合中添加元素\n",
    "s = {1}\n",
    "s.add(42)\n",
    "print(s)"
   ]
  },
  {
   "cell_type": "code",
   "execution_count": 11,
   "metadata": {},
   "outputs": [
    {
     "name": "stdout",
     "output_type": "stream",
     "text": [
      "3138187586920\n",
      "3138187586920\n"
     ]
    }
   ],
   "source": [
    "# clear\n",
    "s = {2,5,1,6}\n",
    "print(id(s))\n",
    "s.clear()\n",
    "print(id(s))"
   ]
  },
  {
   "cell_type": "code",
   "execution_count": 23,
   "metadata": {},
   "outputs": [
    {
     "name": "stdout",
     "output_type": "stream",
     "text": [
      "{2, 3, 5, 23}\n",
      "{2, 5, 23}\n"
     ]
    }
   ],
   "source": [
    "# copy: 拷贝\n",
    "# remove: 移除指定值\n",
    "# discard: 移除集合中指定的值，跟remove一样，但是如果要删除的话，不报错\n",
    "s = {23,2,4,3,5}\n",
    "s.remove(4)\n",
    "print(s)\n",
    "s.discard(3)\n",
    "print(s)"
   ]
  },
  {
   "cell_type": "code",
   "execution_count": 25,
   "metadata": {},
   "outputs": [
    {
     "name": "stdout",
     "output_type": "stream",
     "text": [
      "{2, 3, 4, 6, 8}\n"
     ]
    }
   ],
   "source": [
    "# pop 随机移除一个元素\n",
    "s = {1,2,3,4,6,8}\n",
    "d = s.pop()\n",
    "print(s)"
   ]
  },
  {
   "cell_type": "code",
   "execution_count": 27,
   "metadata": {},
   "outputs": [
    {
     "name": "stdout",
     "output_type": "stream",
     "text": [
      "{3, 4, 5}\n",
      "{1, 2, 6}\n",
      "False\n"
     ]
    }
   ],
   "source": [
    "# 集合函数\n",
    "# intersection: 交集\n",
    "# difference : 差集\n",
    "# union: 并集\n",
    "# issubset: 检查一个集合是否为另一个集合子集\n",
    "# issuperset: 检查一个集合是否为另一个超集\n",
    "s1 = {1,2,3,4,5,6}\n",
    "s2 = {5,3,7,4,9}\n",
    "\n",
    "s_1 = s1.intersection(s2)\n",
    "print(s_1)\n",
    "\n",
    "s_2 = s1.difference(s2)\n",
    "print(s_2)\n",
    "\n",
    "s_3 = s.issubset(s2)\n",
    "print(s_3)"
   ]
  },
  {
   "cell_type": "code",
   "execution_count": 30,
   "metadata": {},
   "outputs": [
    {
     "name": "stdout",
     "output_type": "stream",
     "text": [
      "{3, 4, 5}\n",
      "{1, 3}\n"
     ]
    }
   ],
   "source": [
    "# 集合数学操作\n",
    "s1 = {1,2,3,4,5,6}\n",
    "s2 = {2,4,5,6,8,9}\n",
    "\n",
    "#s_1 = s1 + s2\n",
    "print(s_1)\n",
    "\n",
    "s_2 = s1 - s2\n",
    "print(s_2)"
   ]
  },
  {
   "cell_type": "markdown",
   "metadata": {},
   "source": [
    "## frozenset:冰冻集合\n",
    "- 冰冻就是不可以进行任何修改的集合"
   ]
  },
  {
   "cell_type": "code",
   "execution_count": 32,
   "metadata": {},
   "outputs": [
    {
     "name": "stdout",
     "output_type": "stream",
     "text": [
      "<class 'frozenset'>\n",
      "frozenset()\n"
     ]
    }
   ],
   "source": [
    "# 创建\n",
    "s = frozenset()\n",
    "print(type(s))\n",
    "print(s)"
   ]
  },
  {
   "cell_type": "markdown",
   "metadata": {},
   "source": [
    "# dict-字典\n",
    "- 字典是一种组合数据，没有顺序的组合数据，数据以键值对形式出现"
   ]
  },
  {
   "cell_type": "code",
   "execution_count": 39,
   "metadata": {},
   "outputs": [
    {
     "name": "stdout",
     "output_type": "stream",
     "text": [
      "{}\n",
      "{}\n",
      "{'one': 1, 'two': 2, 'three': 3}\n",
      "{'one': 1, 'two': 2, 'three': 3}\n",
      "{'one': 1, 'two': 2, 'three': 3}\n",
      "{'one': 1, 'two': 2, 'three': 3}\n"
     ]
    }
   ],
   "source": [
    "# 字典的创建\n",
    "# 空字典\n",
    "d = {}\n",
    "print(d)\n",
    "\n",
    "#空字典2\n",
    "d = dict()\n",
    "print(d)\n",
    "\n",
    "# 有值字典\n",
    "d = {\"one\":1,\"two\":2,\"three\":3}\n",
    "print(d)\n",
    "\n",
    "# 用dict 创建有内容字典\n",
    "d = dict({\"one\":1,\"two\":2,\"three\":3})\n",
    "print(d)\n",
    "\n",
    "# 利用关键字参数\n",
    "d = dict(one=1,two=2,three=3)\n",
    "print(d)\n",
    "\n",
    "# \n",
    "d =dict( [(\"one\",1),(\"two\",2),(\"three\",3)])\n",
    "print(d)\n"
   ]
  },
  {
   "cell_type": "markdown",
   "metadata": {},
   "source": [
    "# 字典特征\n",
    "- 字典是序列类型，但是是无序序列，所以没有分片和索引\n",
    "- 字典中的数据每个都有键值对组成，即KV对\n",
    "    - key: 必须是可哈希的值，比如int,string,float,tuple,但是，list,set,dict不行\n",
    "    - value:任何值"
   ]
  },
  {
   "cell_type": "markdown",
   "metadata": {},
   "source": [
    "# 字典常见操作\n"
   ]
  },
  {
   "cell_type": "code",
   "execution_count": 44,
   "metadata": {},
   "outputs": [
    {
     "name": "stdout",
     "output_type": "stream",
     "text": [
      "1\n",
      "{'one': 'eins', 'two': 2, 'three': 3}\n",
      "{'two': 2, 'three': 3}\n"
     ]
    }
   ],
   "source": [
    "# 访问数据\n",
    "d = {\"one\":1,\"two\":2,\"three\":3}\n",
    "# 注意访问格式\n",
    "# 中括号内是键值\n",
    "print(d[\"one\"])\n",
    "\n",
    "d[\"one\"] = \"eins\"\n",
    "print(d)\n",
    "\n",
    "# 删除某个操作\n",
    "# 使用del\n",
    "del d[\"one\"]\n",
    "print(d)"
   ]
  },
  {
   "cell_type": "code",
   "execution_count": 48,
   "metadata": {},
   "outputs": [
    {
     "name": "stdout",
     "output_type": "stream",
     "text": [
      "key\n"
     ]
    }
   ],
   "source": [
    "#成员检测，in     not in\n",
    "# 成员检测的是key内容\n",
    "d = {\"one\":1,\"two\":2,\"three\":3}\n",
    "\n",
    "if 2 in d:\n",
    "    print(\"value\")\n",
    "\n",
    "if \"two\" in d:\n",
    "    print(\"key\")\n",
    "    \n",
    "if (\"two\",2) in d:\n",
    "    print(\"kv\")"
   ]
  },
  {
   "cell_type": "code",
   "execution_count": 52,
   "metadata": {},
   "outputs": [
    {
     "name": "stdout",
     "output_type": "stream",
     "text": [
      "one 1\n",
      "two 2\n",
      "three 3\n",
      "one 1\n",
      "two 2\n",
      "three 3\n",
      "1\n",
      "2\n",
      "3\n",
      "one -- 1\n",
      "two -- 2\n",
      "three -- 3\n"
     ]
    }
   ],
   "source": [
    "# 遍历在2和3中区别比较大，代码不通用\n",
    "# 按key来使用for循环\n",
    "d = {\"one\":1,\"two\":2,\"three\":3}\n",
    "# 使用for循环，直接按key值访问\n",
    "for k in d:\n",
    "    print(k,d[k])\n",
    "# 改写    \n",
    "for k in d.keys():\n",
    "    print(k,d[k])\n",
    "    \n",
    "# 只访问字典的值\n",
    "for v in d.values():\n",
    "    print(v)\n",
    "\n",
    "# 使用特殊用法\n",
    "for k,v in d.items():\n",
    "    print(k,\"--\",v)"
   ]
  },
  {
   "cell_type": "markdown",
   "metadata": {},
   "source": [
    "## 字典生成"
   ]
  },
  {
   "cell_type": "code",
   "execution_count": 53,
   "metadata": {},
   "outputs": [
    {
     "name": "stdout",
     "output_type": "stream",
     "text": [
      "{'one': 1, 'two': 2, 'three': 3}\n",
      "{'two': 2}\n"
     ]
    }
   ],
   "source": [
    "d = {\"one\":1,\"two\":2,\"three\":3}\n",
    "# 常规字典生成\n",
    "dd = {k:v for k,v in d.items()}\n",
    "print(dd)\n",
    "\n",
    "# 加限制条件的字典生成形式\n",
    "dd = {k:v for k,v in d.items() if v % 2 ==0 }\n",
    "print(dd)"
   ]
  },
  {
   "cell_type": "markdown",
   "metadata": {},
   "source": [
    "## 字典相关函数"
   ]
  },
  {
   "cell_type": "code",
   "execution_count": 12,
   "metadata": {},
   "outputs": [
    {
     "name": "stdout",
     "output_type": "stream",
     "text": [
      "{'one': 1, 'two': 2, 'three': 3}\n"
     ]
    }
   ],
   "source": [
    "# 通用函数： len,max,min,dict\n",
    "# str(字典)：返回字典的字符串格式\n",
    "d = {\"one\":1,\"two\":2,\"three\":3}\n",
    "print(str(d))"
   ]
  },
  {
   "cell_type": "code",
   "execution_count": 13,
   "metadata": {},
   "outputs": [
    {
     "name": "stdout",
     "output_type": "stream",
     "text": [
      "<class 'dict_items'>\n",
      "dict_items([('one', 1), ('two', 2), ('three', 3)])\n"
     ]
    }
   ],
   "source": [
    "# clear ：清空字典\n",
    "# items : 返回字典的键值对组成的元组格式\n",
    "\n",
    "d = {\"one\":1,\"two\":2,\"three\":3}\n",
    "i = d.items()\n",
    "print(type(i))\n",
    "print(i)"
   ]
  },
  {
   "cell_type": "code",
   "execution_count": 14,
   "metadata": {},
   "outputs": [
    {
     "name": "stdout",
     "output_type": "stream",
     "text": [
      "<class 'dict_keys'>\n",
      "dict_keys(['one', 'two', 'three'])\n"
     ]
    }
   ],
   "source": [
    "# keys ： 返回字典键组成的一个结构\n",
    "k = d.keys()\n",
    "print(type(k))\n",
    "print(k)"
   ]
  },
  {
   "cell_type": "code",
   "execution_count": 15,
   "metadata": {},
   "outputs": [
    {
     "name": "stdout",
     "output_type": "stream",
     "text": [
      "<class 'dict_values'>\n",
      "dict_values([1, 2, 3])\n"
     ]
    }
   ],
   "source": [
    "# values: 同理，一个可迭代结构\n",
    "v = d.values()\n",
    "print(type(v))\n",
    "print(v)"
   ]
  },
  {
   "cell_type": "code",
   "execution_count": 17,
   "metadata": {},
   "outputs": [
    {
     "name": "stdout",
     "output_type": "stream",
     "text": [
      "None\n",
      "1\n",
      "100\n"
     ]
    }
   ],
   "source": [
    "# get: 根据制定键返回相应的值，好处是可以设置默认值\n",
    "d = {\"one\":1,\"two\":2,\"three\":3}\n",
    "print(d.get(\"on333\"))\n",
    "\n",
    "# get默认值是None ,可以设置\n",
    "print(d.get(\"one\",100))\n",
    "print(d.get(\"on333\",100))\n",
    "\n"
   ]
  },
  {
   "cell_type": "code",
   "execution_count": 18,
   "metadata": {},
   "outputs": [
    {
     "name": "stdout",
     "output_type": "stream",
     "text": [
      "{'eins': 'hahhahhah', 'zwei': 'hahhahhah', 'drei': 'hahhahhah'}\n"
     ]
    }
   ],
   "source": [
    "# fromkeys: 使用指定的序列作为键，使用一个值作为字典的所有的键的值\n",
    "l = [\"eins\",\"zwei\",\"drei\"]\n",
    "# 注意fromkeys两个参数类型\n",
    "# 注意fromkeys的调用主体\n",
    "d = dict.fromkeys(l,\"hahhahhah\")\n",
    "print(d)"
   ]
  }
 ],
 "metadata": {
  "kernelspec": {
   "display_name": "Python 3",
   "language": "python",
   "name": "python3"
  },
  "language_info": {
   "codemirror_mode": {
    "name": "ipython",
    "version": 3
   },
   "file_extension": ".py",
   "mimetype": "text/x-python",
   "name": "python",
   "nbconvert_exporter": "python",
   "pygments_lexer": "ipython3",
   "version": "3.6.3"
  }
 },
 "nbformat": 4,
 "nbformat_minor": 2
}
